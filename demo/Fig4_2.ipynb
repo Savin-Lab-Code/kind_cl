{
 "cells": [
  {
   "cell_type": "code",
   "execution_count": 1,
   "id": "b0c2df88",
   "metadata": {},
   "outputs": [],
   "source": [
    "# plot KE min results\n",
    "\n",
    "import numpy as np\n",
    "import matplotlib.pyplot as plt\n",
    "\n",
    "import os\n",
    "import sys\n",
    "import pickle\n",
    "import copy\n",
    "from scipy.io import savemat\n",
    "from scipy.linalg import schur\n",
    "from sklearn.cluster import DBSCAN as dbscan\n",
    "#from dynamics.process.rnn.parse import KEconvert2matlab\n",
    "from scipy.stats import ranksums, wilcoxon\n",
    "import glob\n",
    "import warnings\n",
    "from sklearn.metrics import pairwise_distances\n",
    "from os.path import exists\n",
    "from scipy import interpolate\n",
    "from copy import deepcopy\n",
    "\n",
    "import json\n",
    "\n",
    "from scipy.stats import ks_2samp\n",
    "from dynamics.process.rnn import wt_kindergarten, wt_nets, wt_costs, wt_reinforce_cont_new, wt_pred, parse, parse_state\n",
    "%load_ext autoreload\n",
    "%autoreload 2\n",
    "\n",
    "warnings.filterwarnings(\"ignore\", message=\"Trying to unpickle estimator PCA*\")\n"
   ]
  },
  {
   "cell_type": "code",
   "execution_count": 2,
   "id": "9f4f6cc1",
   "metadata": {},
   "outputs": [],
   "source": [
    "def KEconvert2matlab(fname, dosave=True, eps=3, doadaptive=False, savedir=None):\n",
    "    \"\"\"\n",
    "    extracts the fixed and slow points from KE minization file, clusters with DBSCAN,\n",
    "    then converts to a matlab file\n",
    "    :param fname: file name of kinetic energy minima located by minimization\n",
    "    :param dosave: if true, saves .mat file. otherwise just returns dict\n",
    "    :param eps: the DBscan parameter\n",
    "    :param doadaptive: should the epsilon parameter be chosen adaptive for each network, based on PC1 range?\n",
    "    :param savedir: if None, save in original data dir. this helps for trying different hyperparams\n",
    "    :return: (dict) of coordinates, schur modes, eigenvalues, etc.\n",
    "    \"\"\"\n",
    "\n",
    "    if not exists(fname):\n",
    "        #print('data file does not exist')\n",
    "        return None\n",
    "\n",
    "    if fname.split('.')[-1] == 'dat':\n",
    "        #print('loading legacy .dat data')\n",
    "        with open(fname, 'rb') as f:\n",
    "            dat = pickle.load(f)\n",
    "\n",
    "    # format everything into a matlab-friendly thing\n",
    "    ns = len(dat['output'])\n",
    "    #crds = np.array([[dat['output'][k][0][0], dat['output'][k][0][1]] for k in range(ns)])  # assume 2d\n",
    "    crds = np.array([dat['output'][k][0] for k in range(ns)])\n",
    "    KE = np.array([dat['output'][k][1] for k in range(ns)])\n",
    "    jac_pc = np.array([dat['output'][k][2][0] for k in range(ns)])\n",
    "    evals_full = np.array([dat['output'][k][2][1] for k in range(ns)])\n",
    "    D = crds.shape[1]\n",
    "    \n",
    "    \n",
    "\n",
    "    # filter the data into slow and fast points, then cluster to get the effecgtive points\n",
    "    # create cutoffs for fixed points and slow points. filter data\n",
    "    mask_fixed = KE < 0.0001\n",
    "\n",
    "    # define slow points that only change magnitude < 5% across duration of trial\n",
    "    lam = 2.5\n",
    "    dt = 0.05\n",
    "    eps_norm = 0.05\n",
    "    eps_fp = 1e-3\n",
    "    sdiffnorm = 2 * np.sqrt(KE) * lam / (np.linalg.norm(crds, axis=1))\n",
    "    mask_slow = sdiffnorm < eps_norm\n",
    "\n",
    "    mask = (mask_fixed) | (mask_slow)\n",
    "    # potentially get ride of this\n",
    "    mask = np.ones(mask.shape).astype(bool)\n",
    "\n",
    "    crds_masked = crds[mask, :]\n",
    "    KE_masked = KE[mask]\n",
    "    jac_pc_masked = jac_pc[mask, :, :]\n",
    "    evals_full_masked = evals_full[mask, :]\n",
    "    sdiffnorm_masked = sdiffnorm[mask]\n",
    "    isfixed_masked = KE_masked < 0.0001\n",
    "    ns_masked = sum(mask)\n",
    "    \n",
    "    \n",
    "    #decide on hyperparameter\n",
    "    if doadaptive:\n",
    "        xvals = [k[0][0] for k in dat['crds']]\n",
    "        xrange = max(xvals)-min(xvals)\n",
    "        eps = np.abs(xrange*eps)\n",
    "        if eps==0:\n",
    "            print('issue with range')\n",
    "            return None\n",
    "        \n",
    "    \n",
    "    #find number of dynamical systems features\n",
    "    clustering = dbscan(eps=eps, min_samples=10).fit(crds_masked)\n",
    "    labs = np.unique(clustering.labels_)\n",
    "    labels = clustering.labels_\n",
    "    \n",
    "    #analyze the spread of each feature. relevant only for line attractors, but that analysis is later\n",
    "    featurelen = []\n",
    "    for k in labs:\n",
    "        pts = crds_masked[labels==k]\n",
    "        featurelen.append(np.max(pairwise_distances(pts)))\n",
    "    \n",
    "    fetdict = dict(zip(labs,featurelen))\n",
    "    \n",
    "    # TODO: determine if each labeled feature is in range. give it a bit of a buffer of 30%\n",
    "    min_pcvals = []\n",
    "    max_pcvals = []\n",
    "    for m in range(D):\n",
    "        min_pcvals.append(1.3*np.min(np.array([k[0][m] for k in dat['crds']])))\n",
    "        max_pcvals.append(1.3*np.max(np.array([k[0][m] for k in dat['crds']])))\n",
    "        \n",
    "    inrange = []  # is each masked fixed/slow point within bounds of PC_min and PC_max?    \n",
    "    for k in crds_masked:\n",
    "        cond_all = True\n",
    "        for m in range(D):\n",
    "            cond_m = k[m] > min_pcvals[m] and k[m] < max_pcvals[m]  # if out of range for any PC\n",
    "            cond_all = cond_all and cond_m\n",
    "        inrange.append(cond_all)\n",
    "            \n",
    "    \n",
    "    \n",
    "    \n",
    "\n",
    "    savedict = {'ns': ns_masked, 'crds': crds_masked, 'KE': KE_masked, 'jac_pc': jac_pc_masked,\n",
    "                'evals_full_masked': evals_full, 'statediff': sdiffnorm_masked, 'labels': labels,\n",
    "                'isfixed': isfixed_masked, 'fetdict':fetdict, 'D':D, 'inrange':inrange}\n",
    "    if dosave:\n",
    "        if savedir is None:\n",
    "            savemat(fname.split('.')[0] + '.mat', savedict)\n",
    "        else:\n",
    "            savename = savedir + fname.split('/')[-1].split('.')[0]+'.mat'\n",
    "            savemat(savename, savedict)\n",
    "    return savedict"
   ]
  },
  {
   "cell_type": "code",
   "execution_count": 3,
   "id": "da276dba",
   "metadata": {},
   "outputs": [
    {
     "data": {
      "text/plain": [
       "'/scratch/dh148/dynamics/results/rnn/ac/20231003/full_cl/dynamics/KEmin_constrained/kemin_rnn_curric_12_block_10reg_0_mixed_wait.dat'"
      ]
     },
     "execution_count": 3,
     "metadata": {},
     "output_type": "execute_result"
    }
   ],
   "source": [
    "\n",
    "\n",
    "ttype = 'full_cl_20231003'\n",
    "epoch = 'wait'\n",
    "reg_idx = 0\n",
    "\n",
    "def getdirname(ttype,epoch, num=None, reg_idx = 0):\n",
    "\n",
    "    if ttype == 'full_cl':\n",
    "        #dirname = '/Users/dhocker/projects/dynamics/results/rnn/ac/20230206_fullclstudy/full_cl_redo/dynamics/'  \n",
    "        dirname = '/scratch/dh148/dynamics/results/rnn/ac/20230206_clstudy/full_cl_redo/dynamics/KEmin_constrained/' \n",
    "        if epoch == 'wait':\n",
    "            txt = 'kemin_rnn_curric_*block_10reg_'+str(reg_idx)+'_D2_wait.dat'\n",
    "        elif epoch == 'iti':\n",
    "            txt = 'kemin_rnn_curric_*block_10reg_'+str(reg_idx)+'_D2_iti.dat'\n",
    "        elif epoch == 'start':\n",
    "            txt = 'kemin_rnn_curric_*block_10reg_'+str(reg_idx)+'_D2_start.dat'\n",
    "        dirnames = glob.glob(dirname+txt)\n",
    "        tphase = 5*np.ones((len(dirnames)))\n",
    "    elif ttype == 'full_cl_20231003':\n",
    "        #dirname = '/Users/dhocker/projects/dynamics/results/rnn/ac/20230206_fullclstudy/full_cl_redo/dynamics/'  \n",
    "        #dirname = '/scratch/dh148/dynamics/results/rnn/ac/20230206_clstudy/full_cl_redo/dynamics/KEmin_constrained/' \n",
    "        dirname = '/scratch/dh148/dynamics/results/rnn/ac/20231003/full_cl/dynamics/KEmin_constrained/' \n",
    "        if epoch == 'wait':\n",
    "            txt = 'kemin_rnn_curric_*block_10reg_'+str(reg_idx)+'_mixed_wait.dat'\n",
    "        elif epoch == 'iti':\n",
    "            txt = 'kemin_rnn_curric_*block_10reg_'+str(reg_idx)+'_mixed_iti.dat'\n",
    "        elif epoch == 'start':\n",
    "            txt = 'kemin_rnn_curric_*block_10reg_'+str(reg_idx)+'_mixed_start.dat'\n",
    "        dirnames = glob.glob(dirname+txt)\n",
    "        tphase = 5*np.ones((len(dirnames)))\n",
    "    elif ttype == 'nok_cl':\n",
    "        #dirname = '/Users/dhocker/projects/dynamics/results/rnn/ac/20230206_fullclstudy/nok_cl/dynamics/'\n",
    "        dirname = '/scratch/dh148/dynamics/results/rnn/ac/20231003/nok_cl/dynamics/KEmin_constrained/' \n",
    "        if epoch == 'wait':\n",
    "            txt = 'kemin_rnn_curric_*block_60reg_'+str(reg_idx)+'_mixed_wait.dat'\n",
    "        elif epoch == 'iti':\n",
    "            txt = 'kemin_rnn_curric_*block_60reg_'+str(reg_idx)+'_mixed_iti.dat'\n",
    "        elif epoch == 'start':\n",
    "            txt = 'kemin_rnn_curric_*block_60reg_'+str(reg_idx)+'_mixed_start.dat'\n",
    "        dirnames = glob.glob(dirname+txt)\n",
    "        tphase = 5*np.ones((len(dirnames)))\n",
    "\n",
    "    \n",
    "    #if doing time dependence, do this in order\n",
    "    if ttype == 'full_cl_time':\n",
    "        #dirname = '/scratch/dh148/dynamics/results/rnn/ac/20230206_clstudy/full_cl_redo/dynamics/KEmin_constrained/'       \n",
    "        dirname = '/scratch/dh148/dynamics/results/rnn/ac/20231003/full_cl/dynamics/KEmin_constrained/'     \n",
    "        dirnames = []\n",
    "        tphase = []\n",
    "    \n",
    "        \n",
    "        txt = 'kemin_rnn_kindergarten_'+str(num)+'_simplereg_'+str(reg_idx)+'_kind_'+epoch+'.dat'\n",
    "        dirnames.append(dirname+txt)\n",
    "        tphase.append(0)\n",
    "        \n",
    "        \n",
    "        for k in range(1,11):\n",
    "            txt = 'kemin_rnn_kindergarten_'+str(num)+'_int_0_'+str(k)+'reg_'+str(reg_idx)+'_kind_'+epoch+'.dat'\n",
    "            dirnames.append(dirname+txt)\n",
    "        tphase.extend(1*np.ones((10,)))\n",
    "        for k in range(1,101,1):\n",
    "            txt = 'kemin_rnn_pred_'+str(num)+'_'+str(k)+'reg_'+str(reg_idx)+'_kind_'+epoch+'.dat'\n",
    "            dirnames.append(dirname+txt)\n",
    "        tphase.extend(2*np.ones((100,)))\n",
    "        \n",
    "        for k in range(1,11):\n",
    "            txt = 'kemin_rnn_curric_'+str(num)+'_nocatch_'+str(k)+'reg_'+str(reg_idx)+'_mixed_'+epoch+'.dat'\n",
    "            dirnames.append(dirname+txt)\n",
    "        tphase.extend(3*np.ones((10,)))\n",
    "        for k in range(1,11):\n",
    "            txt = 'kemin_rnn_curric_'+str(num)+'_catch_'+str(k)+'reg_'+str(reg_idx)+'_mixed_'+epoch+'.dat'\n",
    "            dirnames.append(dirname+txt)\n",
    "        tphase.extend(4*np.ones((10,)))\n",
    "        for k in range(1,11):\n",
    "            txt = 'kemin_rnn_curric_'+str(num)+'_block_'+str(k)+'reg_'+str(reg_idx)+'_mixed_'+epoch+'.dat'\n",
    "            dirnames.append(dirname+txt)\n",
    "        tphase.extend(5*np.ones((10,)))\n",
    "\n",
    "    \n",
    "    \n",
    "    return dirnames, tphase\n",
    "dirnames, tphase = getdirname(ttype,epoch)\n",
    "dirnames[0]\n"
   ]
  },
  {
   "cell_type": "code",
   "execution_count": 4,
   "id": "a2b27025",
   "metadata": {},
   "outputs": [],
   "source": [
    "def classify(eigs):\n",
    "    \"\"\"will classify eigenvalue as \n",
    "      - attractor (stable) both < 1\n",
    "      - source (unstable) both > 1\n",
    "      - saddle (semistable eig_1 < 1, eig2 > 1)\n",
    "      - line attractor (one eig is unity, within a tolerance)\n",
    "      \n",
    "      (handle these later. need to check textbook)\n",
    "      - stablespiral (complex eigenvalues), norm < 1\n",
    "      - unstable spiral (complex)\n",
    "      - orbit (purely imaginary)\"\"\"\n",
    "    \n",
    "    e1 = eigs[0]\n",
    "    e2 = eigs[1]\n",
    "    \n",
    "    tol1_low = 0.999\n",
    "    tol1_high = 1.001\n",
    "    \n",
    "    \n",
    "    if e1<tol1_low and e2 < tol1_low:\n",
    "        return 'attractor'\n",
    "    elif e1 > tol1_high and e2 > tol1_high:\n",
    "        return 'source'\n",
    "    elif e1 < tol1_low and e2 > tol1_high:\n",
    "        return 'saddle'\n",
    "    elif e2 < tol1_low and e1 > tol1_high:\n",
    "        return 'saddle'\n",
    "    elif e1 < tol1_high and e1 > tol1_low:\n",
    "        return 'line'\n",
    "    elif e2 < tol1_high and e2 > tol1_low:\n",
    "        return 'line'\n",
    "    else:\n",
    "        print('i missed something:' + str(eigs))\n",
    "        return None\n",
    "    "
   ]
  },
  {
   "cell_type": "code",
   "execution_count": 5,
   "id": "75cc7679",
   "metadata": {},
   "outputs": [],
   "source": [
    "def classify_gen(eigs,D=2):\n",
    "    \"\"\"will classify eigenvalues in arbitraty dim as \n",
    "      - attractor (stable) both < 1\n",
    "      - source (unstable) both > 1\n",
    "      - saddle (semistable eig_1 < 1, eig2 > 1)\n",
    "      - line attractor (one eig is unity, within a tolerance)\n",
    "      \n",
    "      (handle these later. need to check textbook)\n",
    "      - stablespiral (complex eigenvalues), norm < 1\n",
    "      - unstable spiral (complex)\n",
    "      - orbit (purely imaginary)\"\"\"\n",
    "    \n",
    "    tol1_low = 0.999\n",
    "    tol1_high = 1.001\n",
    "    \n",
    "    ltmask = eigs < tol1_low # attractors\n",
    "    gtmask = eigs > tol1_high # unstable\n",
    "    linemask = (eigs > tol1_low) & (eigs < tol1_high) #lines\n",
    "    \n",
    "    if np.sum(ltmask) == D:\n",
    "        return 'attractor'\n",
    "    elif np.sum(gtmask) == D:\n",
    "        return 'source'\n",
    "    elif np.sum(linemask) > 0:\n",
    "        return 'line'\n",
    "    elif np.sum(ltmask) > 0 and np.sum(gtmask) > 0:\n",
    "        return 'saddle'\n",
    "    else:\n",
    "        print('i missed something'+ str(eigs))\n",
    "        return None\n",
    "    \n",
    "    "
   ]
  },
  {
   "cell_type": "code",
   "execution_count": 6,
   "id": "b9fc4556",
   "metadata": {},
   "outputs": [],
   "source": [
    "def getnpts(dirnames,tphase, subtype='fixed', eps=3, doadaptive=False, savedir=None, restrictrange=False):\n",
    "    \"\"\"helper script to get number and type of fixed points\n",
    "        if savedir is None: defautl to saving things in datadir. useful for different eps runs\n",
    "        restrictrange is for excluding feature outside range of PC activity \"\"\"\n",
    "    nfixed_all = []\n",
    "    nslow_all = []\n",
    "    ntot = []\n",
    "    \n",
    "    nattractor_all = []\n",
    "    nsaddle_all = []\n",
    "    nline_all = []\n",
    "    nsource_all = []\n",
    "    ctr = 0\n",
    "    cutctr = 0\n",
    "    \n",
    "    dirnamecpy = copy.deepcopy(dirnames)\n",
    "    tphasecpy = copy.deepcopy(tphase)\n",
    "    \n",
    "    fetlen_all = []\n",
    "    fetlentype_all = []\n",
    "    inrange_all = []\n",
    "    Dall = []\n",
    "    \n",
    "    for m in dirnames:\n",
    "        #try:\n",
    "        if savedir is None:\n",
    "            dosave = False\n",
    "        else:\n",
    "            dosave = True\n",
    "\n",
    "        dat = KEconvert2matlab(m,dosave = dosave, eps=eps, doadaptive=doadaptive, savedir=savedir)\n",
    "        #except:\n",
    "        #    print('issue with file:'+m)\n",
    "        #    dat = None\n",
    "        \n",
    "        if dat is None:\n",
    "            #print('didnt exist: '+m)        \n",
    "            nfixed = np.nan\n",
    "            nslow = np.nan\n",
    "            nattractor = np.nan\n",
    "            nsaddle = np.nan\n",
    "            nline = np.nan\n",
    "            nsource = np.nan\n",
    "            npts = []\n",
    "            D = np.nan\n",
    "            #maximum length of feature, and its type\n",
    "            fetlen = []\n",
    "            fetlentype = []\n",
    "\n",
    "        else:\n",
    "            D = dat['D']\n",
    "            \n",
    "            if restrictrange:\n",
    "                mask = dat['inrange']\n",
    "            else:\n",
    "                mask = np.ones(len(dat['labels'])).astype(bool)            \n",
    "                \n",
    "            npts = np.unique(dat['labels'][np.array(dat['labels']>-1) & np.array(mask)])\n",
    "\n",
    "            nfixed = 0\n",
    "            nslow = 0\n",
    "            nattractor = 0\n",
    "            nsaddle = 0\n",
    "            nline = 0\n",
    "            nsource = 0\n",
    "            \n",
    "            #maximum length of feature, and its type\n",
    "            fetlen = []\n",
    "            fetlentype = []\n",
    "            \n",
    "            #also track if feature is is in the range of network activity\n",
    "            inrange = []\n",
    "\n",
    "\n",
    "            for k in npts:\n",
    "                pt_k_idx = np.argwhere(dat['labels']==k)[0,0]\n",
    "                \n",
    "                fetlen.append(dat['fetdict'][k])\n",
    "                inrange.append(dat['inrange'][k])\n",
    "                \n",
    "                \n",
    "                if dat['isfixed'][pt_k_idx]:\n",
    "                    nfixed+=1\n",
    "                else:\n",
    "                    nslow+=1\n",
    "\n",
    "                test = schur(dat['jac_pc'][pt_k_idx], output='real')\n",
    "                evals = np.diag(test[0])\n",
    "                #c = classify(evals)\n",
    "                c = classify_gen(evals,D)\n",
    "                #types.append(c)\n",
    "                \n",
    "                #add points only if following condition is met\n",
    "                cond1 = dat['isfixed'][pt_k_idx] and subtype=='fixed' #update only if fixed\n",
    "                cond2 = not dat['isfixed'][pt_k_idx] and subtype=='slow' #update only if slow\n",
    "                cond3 = subtype == 'all' #update all of them\n",
    "\n",
    "                #only update if fixed\n",
    "                if cond1 or cond2 or cond3:\n",
    "                    if c == 'attractor':\n",
    "                        nattractor +=1\n",
    "                        fetlentype.append('attractor')\n",
    "                    elif c == 'saddle':\n",
    "                        nsaddle +=1\n",
    "                        fetlentype.append('saddle')\n",
    "                    elif c == 'line':\n",
    "                        nline +=1\n",
    "                        fetlentype.append('line')\n",
    "                    elif c == 'source':\n",
    "                        nsource +=1     \n",
    "                        fetlentype.append('source')\n",
    "                    else:\n",
    "                        print('none chosen')\n",
    "                        \n",
    "\n",
    "        nfixed_all.append(nfixed)\n",
    "        nslow_all.append(nslow)\n",
    "        ntot.append(len(npts))\n",
    "        nattractor_all.append(nattractor)\n",
    "        nsaddle_all.append(nsaddle)\n",
    "        nline_all.append(nline)\n",
    "        nsource_all.append(nsource)\n",
    "        fetlen_all.append(fetlen)\n",
    "        fetlentype_all.append(fetlentype)\n",
    "        Dall.append(D)\n",
    "        inrange_all.append(inrange)\n",
    "        \n",
    "\n",
    "        \n",
    "    typelist = [nattractor_all, nsaddle_all, nline_all, nsource_all]\n",
    "\n",
    "    \n",
    "    return nfixed_all, nslow_all, ntot, typelist, dirnamecpy, tphasecpy, fetlen_all, fetlentype_all, Dall, inrange_all\n",
    "\n",
    "    "
   ]
  },
  {
   "cell_type": "code",
   "execution_count": 10,
   "id": "71d4bf16",
   "metadata": {},
   "outputs": [],
   "source": [
    "#Fig. E. the end-of-training cumulative plot\n",
    "\n",
    "st = 'all'\n",
    "#vers = 'full_cl'  #the old kind CL reult\n",
    "vers = 'full_cl_20231003' #the new cl results\n",
    "\n",
    "#reg_idx = 0 # for OFC results\n",
    "reg_idx = 1  # for STR results\n",
    "\n",
    "#eps = 3\n",
    "#doadaptive = False\n",
    "\n",
    "#savedir = '/scratch/dh148/dynamics/results/rnn/ac/20231003/full_cl/dynamics/eps001/'\n",
    "#savedir = '/scratch/dh148/dynamics/results/rnn/ac/20231003/full_cl/dynamics/eps01/'\n",
    "#savedir = '/scratch/dh148/dynamics/results/rnn/ac/20231003/full_cl/dynamics/eps05/'\n",
    "#savedir = '/scratch/dh148/dynamics/results/rnn/ac/20231003/full_cl/dynamics/eps1/'\n",
    "\n",
    "savedir = None\n",
    "\n",
    "\n",
    "eps = 0.01  # ratio of PC1 range\n",
    "doadaptive = True\n",
    "restrictrange = False\n",
    "\n",
    "dirnames, tphase = getdirname(vers,'wait', reg_idx=reg_idx)\n",
    "npts_kind_wait = getnpts(dirnames,tphase,st, eps=eps, doadaptive=doadaptive,savedir=savedir, restrictrange=restrictrange)\n",
    "\n",
    "dirnames, tphase = getdirname(vers,'iti', reg_idx=reg_idx)\n",
    "npts_kind_iti = getnpts(dirnames,tphase,st, eps=eps, doadaptive=doadaptive,savedir=savedir,restrictrange=restrictrange)\n",
    "\n",
    "dirnames, tphase = getdirname(vers,'start', reg_idx=reg_idx)\n",
    "npts_kind_start = getnpts(dirnames,tphase,st, eps=eps, doadaptive=doadaptive,savedir=savedir,restrictrange=restrictrange)\n",
    "\n",
    "\n",
    "dirnames, tphase = getdirname('nok_cl','wait', reg_idx=reg_idx)\n",
    "npts_classic_wait = getnpts(dirnames,tphase,st, eps=eps, doadaptive=doadaptive,savedir=savedir,restrictrange=restrictrange)\n",
    "\n",
    "dirnames, tphase = getdirname('nok_cl','iti', reg_idx=reg_idx)\n",
    "npts_classic_iti = getnpts(dirnames,tphase,st, eps=eps, doadaptive=doadaptive,savedir=savedir,restrictrange=restrictrange)\n",
    "\n",
    "dirnames, tphase = getdirname('nok_cl','start', reg_idx=reg_idx)\n",
    "npts_classic_start = getnpts(dirnames,tphase,st, eps=eps, doadaptive=doadaptive,savedir=savedir,restrictrange=restrictrange)\n",
    "\n",
    "\n"
   ]
  },
  {
   "cell_type": "code",
   "execution_count": 11,
   "id": "dc6761ea",
   "metadata": {},
   "outputs": [
    {
     "data": {
      "image/png": "[encoded data removed]",
      "text/plain": [
       "<Figure size 432x288 with 1 Axes>"
      ]
     },
     "metadata": {
      "needs_background": "light"
     },
     "output_type": "display_data"
    },
    {
     "name": "stdout",
     "output_type": "stream",
     "text": [
      "KstestResult(statistic=0.08592017738359202, pvalue=0.9904104289294761)\n"
     ]
    },
    {
     "name": "stderr",
     "output_type": "stream",
     "text": [
      "/ext3/miniconda3/lib/python3.9/site-packages/numpy/core/fromnumeric.py:997: VisibleDeprecationWarning: Creating an ndarray from ragged nested sequences (which is a list-or-tuple of lists-or-tuples-or ndarrays with different lengths or shapes) is deprecated. If you meant to do this, you must specify 'dtype=object' when creating the ndarray.\n",
      "  a = asanyarray(a).copy(order=\"K\")\n"
     ]
    }
   ],
   "source": [
    "#try plotting dimensionality?\n",
    "savedir = '/scratch/dh148/dynamics/results/rnn/ac/20231003/figs/'\n",
    "#plt.hist([npts_kind_wait[-2],npts_classic_wait[-2]],label=['kind_cl','classic cl'], width=0.8, stacked=True)\n",
    "plt.hist([npts_kind_wait[-2],npts_classic_wait[-2]],label=['kind_cl','classic cl'],\n",
    "         cumulative=True,histtype='step', density=True)\n",
    "\n",
    "#plt.hist(npts_classic_wait[-1],label='classic cl',width=0.8)\n",
    "plt.legend()\n",
    "plt.title('dimensionality at end of training, reg: '+str(reg_idx))\n",
    "plt.savefig(savedir+'dimen_reg_'+str(reg_idx)+'.pdf')\n",
    "plt.show()\n",
    "\n",
    "ksres = ks_2samp(npts_kind_wait[-1], npts_classic_wait[-1])\n",
    "print(ksres)\n"
   ]
  },
  {
   "cell_type": "code",
   "execution_count": 12,
   "id": "72a6f55b",
   "metadata": {},
   "outputs": [
    {
     "data": {
      "image/png": "[encoded data removed]",
      "text/plain": [
       "<Figure size 432x288 with 1 Axes>"
      ]
     },
     "metadata": {
      "needs_background": "light"
     },
     "output_type": "display_data"
    },
    {
     "name": "stdout",
     "output_type": "stream",
     "text": [
      "KstestResult(statistic=0.10532150776053215, pvalue=0.943530791307105)\n"
     ]
    }
   ],
   "source": [
    "\n",
    "\n",
    "savedir = '/scratch/dh148/dynamics/results/rnn/ac/20231003/figs/'\n",
    "\n",
    "plt.hist([npts_kind_wait[2],npts_classic_wait[2]],bins = [1,2,3,4,5,6,7],\n",
    "         cumulative=True,histtype=\"step\", alpha = 0.5,density=True, label=['kind','classic CL'])\n",
    "\n",
    "plt.legend(loc='lower right')\n",
    "\n",
    "#plt.hist([npts_kind_wait[2],npts_classic_wait[2]],bins = [1,2,3,4,5,6,7],\n",
    "#         cumulative=False,histtype=\"bar\",stacked=True, alpha = 0.5,density=True, label=['kind','classic CL'])\n",
    "#plt.legend(loc='upper right')\n",
    "\n",
    "plt.title('all KE min points: wait, reg_'+str(reg_idx) )\n",
    "\n",
    "\n",
    "savename = savedir + 'numfeatures_reg'+str(reg_idx)\n",
    "#savename = savedir + 'numfeatures_reg_nocumulative'+str(reg_idx)\n",
    "plt.savefig(savename+'.pdf')\n",
    "plt.show()\n",
    "\n",
    "ksres = ks_2samp(npts_kind_wait[2], npts_classic_wait[2])\n",
    "print(ksres)\n",
    "\n"
   ]
  },
  {
   "cell_type": "code",
   "execution_count": 10,
   "id": "11c920a7",
   "metadata": {},
   "outputs": [
    {
     "data": {
      "text/plain": [
       "1.9545454545454546"
      ]
     },
     "execution_count": 10,
     "metadata": {},
     "output_type": "execute_result"
    }
   ],
   "source": [
    "np.mean(npts_kind_wait[2])"
   ]
  },
  {
   "cell_type": "code",
   "execution_count": 20,
   "id": "317e0b6e",
   "metadata": {},
   "outputs": [
    {
     "data": {
      "text/plain": [
       "'/scratch/dh148/dynamics/results/rnn/ac/20230206_clstudy/full_cl_redo/dynamics/KEmin_constrained/'"
      ]
     },
     "execution_count": 20,
     "metadata": {},
     "output_type": "execute_result"
    }
   ],
   "source": [
    "savedir"
   ]
  },
  {
   "cell_type": "code",
   "execution_count": 26,
   "id": "d3c6b4eb",
   "metadata": {},
   "outputs": [
    {
     "name": "stderr",
     "output_type": "stream",
     "text": [
      "/ext3/miniconda3/lib/python3.9/site-packages/numpy/lib/histograms.py:906: RuntimeWarning: invalid value encountered in true_divide\n",
      "  return n/db/n.sum(), bin_edges\n"
     ]
    },
    {
     "data": {
      "image/png": "[encoded data removed]",
      "text/plain": [
       "<Figure size 432x288 with 1 Axes>"
      ]
     },
     "metadata": {
      "needs_background": "light"
     },
     "output_type": "display_data"
    },
    {
     "ename": "ValueError",
     "evalue": "Data passed to ks_2samp must not be empty",
     "output_type": "error",
     "traceback": [
      "\u001b[0;31m---------------------------------------------------------------------------\u001b[0m",
      "\u001b[0;31mValueError\u001b[0m                                Traceback (most recent call last)",
      "\u001b[0;32m/state/partition1/job-40537542/ipykernel_4114062/3276018720.py\u001b[0m in \u001b[0;36m<module>\u001b[0;34m\u001b[0m\n\u001b[1;32m     10\u001b[0m \u001b[0mplt\u001b[0m\u001b[0;34m.\u001b[0m\u001b[0mshow\u001b[0m\u001b[0;34m(\u001b[0m\u001b[0;34m)\u001b[0m\u001b[0;34m\u001b[0m\u001b[0;34m\u001b[0m\u001b[0m\n\u001b[1;32m     11\u001b[0m \u001b[0;34m\u001b[0m\u001b[0m\n\u001b[0;32m---> 12\u001b[0;31m \u001b[0mksres\u001b[0m \u001b[0;34m=\u001b[0m \u001b[0mks_2samp\u001b[0m\u001b[0;34m(\u001b[0m\u001b[0mnpts_kind_iti\u001b[0m\u001b[0;34m[\u001b[0m\u001b[0;36m2\u001b[0m\u001b[0;34m]\u001b[0m\u001b[0;34m,\u001b[0m \u001b[0mnpts_classic_iti\u001b[0m\u001b[0;34m[\u001b[0m\u001b[0;36m2\u001b[0m\u001b[0;34m]\u001b[0m\u001b[0;34m)\u001b[0m\u001b[0;34m\u001b[0m\u001b[0;34m\u001b[0m\u001b[0m\n\u001b[0m\u001b[1;32m     13\u001b[0m \u001b[0mprint\u001b[0m\u001b[0;34m(\u001b[0m\u001b[0mksres\u001b[0m\u001b[0;34m)\u001b[0m\u001b[0;34m\u001b[0m\u001b[0;34m\u001b[0m\u001b[0m\n\u001b[1;32m     14\u001b[0m \u001b[0;34m\u001b[0m\u001b[0m\n",
      "\u001b[0;32m/ext3/miniconda3/lib/python3.9/site-packages/scipy/stats/stats.py\u001b[0m in \u001b[0;36mks_2samp\u001b[0;34m(data1, data2, alternative, mode)\u001b[0m\n\u001b[1;32m   7440\u001b[0m     \u001b[0mn2\u001b[0m \u001b[0;34m=\u001b[0m \u001b[0mdata2\u001b[0m\u001b[0;34m.\u001b[0m\u001b[0mshape\u001b[0m\u001b[0;34m[\u001b[0m\u001b[0;36m0\u001b[0m\u001b[0;34m]\u001b[0m\u001b[0;34m\u001b[0m\u001b[0;34m\u001b[0m\u001b[0m\n\u001b[1;32m   7441\u001b[0m     \u001b[0;32mif\u001b[0m \u001b[0mmin\u001b[0m\u001b[0;34m(\u001b[0m\u001b[0mn1\u001b[0m\u001b[0;34m,\u001b[0m \u001b[0mn2\u001b[0m\u001b[0;34m)\u001b[0m \u001b[0;34m==\u001b[0m \u001b[0;36m0\u001b[0m\u001b[0;34m:\u001b[0m\u001b[0;34m\u001b[0m\u001b[0;34m\u001b[0m\u001b[0m\n\u001b[0;32m-> 7442\u001b[0;31m         \u001b[0;32mraise\u001b[0m \u001b[0mValueError\u001b[0m\u001b[0;34m(\u001b[0m\u001b[0;34m'Data passed to ks_2samp must not be empty'\u001b[0m\u001b[0;34m)\u001b[0m\u001b[0;34m\u001b[0m\u001b[0;34m\u001b[0m\u001b[0m\n\u001b[0m\u001b[1;32m   7443\u001b[0m \u001b[0;34m\u001b[0m\u001b[0m\n\u001b[1;32m   7444\u001b[0m     \u001b[0mdata_all\u001b[0m \u001b[0;34m=\u001b[0m \u001b[0mnp\u001b[0m\u001b[0;34m.\u001b[0m\u001b[0mconcatenate\u001b[0m\u001b[0;34m(\u001b[0m\u001b[0;34m[\u001b[0m\u001b[0mdata1\u001b[0m\u001b[0;34m,\u001b[0m \u001b[0mdata2\u001b[0m\u001b[0;34m]\u001b[0m\u001b[0;34m)\u001b[0m\u001b[0;34m\u001b[0m\u001b[0;34m\u001b[0m\u001b[0m\n",
      "\u001b[0;31mValueError\u001b[0m: Data passed to ks_2samp must not be empty"
     ]
    }
   ],
   "source": [
    "# supp figs.  TODO: not simulated for 20231003\n",
    "\n",
    "plt.hist([npts_kind_iti[2],npts_classic_iti[2]],bins = [1,2,3,4,5,6,7],\n",
    "         cumulative=True,histtype=\"step\", alpha = 0.5,density=True, label=['kind','classic CL'])\n",
    "plt.title('all KE min points: iti, reg_'+str(reg_idx) )\n",
    "plt.legend(loc='lower right')\n",
    "\n",
    "savename = savedir + 'numfeatures_reg'+str(reg_idx)+'_iti'\n",
    "#plt.savefig(savename+'.pdf')\n",
    "plt.show()\n",
    "\n",
    "ksres = ks_2samp(npts_kind_iti[2], npts_classic_iti[2])\n",
    "print(ksres)\n",
    "\n",
    "\n",
    "plt.hist([npts_kind_start[2],npts_classic_start[2]],bins = [1,2,3,4,5,6,7],\n",
    "         cumulative=True,histtype=\"step\", alpha = 0.5,density=True, label=['kind','classic CL'])\n",
    "plt.title('all KE min points: offer pres, reg_'+str(reg_idx) )\n",
    "plt.legend(loc='lower right')\n",
    "\n",
    "savename = savedir + 'numfeatures_reg'+str(reg_idx)+'_offer'\n",
    "#plt.savefig(savename+'.pdf')\n",
    "plt.show()\n",
    "\n",
    "ksres = ks_2samp(npts_kind_start[2], npts_classic_start[2])\n",
    "print(ksres)\n",
    "\n"
   ]
  },
  {
   "cell_type": "code",
   "execution_count": 31,
   "id": "29fc107b",
   "metadata": {},
   "outputs": [
    {
     "name": "stdout",
     "output_type": "stream",
     "text": [
      "1\n",
      "2\n",
      "3\n",
      "4\n",
      "5\n",
      "6\n",
      "7\n",
      "8\n",
      "9\n",
      "10\n",
      "11\n",
      "12\n",
      "13\n",
      "14\n",
      "15\n",
      "16\n",
      "17\n",
      "18\n",
      "19\n",
      "20\n",
      "21\n",
      "22\n",
      "23\n",
      "24\n",
      "25\n",
      "26\n",
      "27\n",
      "28\n",
      "29\n",
      "30\n"
     ]
    },
    {
     "name": "stderr",
     "output_type": "stream",
     "text": [
      "/state/partition1/job-40927344/ipykernel_149836/239875722.py:42: RuntimeWarning: divide by zero encountered in true_divide\n",
      "  sdiffnorm = 2 * np.sqrt(KE) * lam / (np.linalg.norm(crds, axis=1))\n"
     ]
    },
    {
     "name": "stdout",
     "output_type": "stream",
     "text": [
      "31\n",
      "32\n",
      "33\n",
      "34\n",
      "35\n",
      "36\n",
      "37\n",
      "38\n",
      "39\n",
      "40\n",
      "41\n",
      "42\n",
      "43\n",
      "44\n",
      "45\n",
      "46\n",
      "47\n",
      "48\n",
      "49\n",
      "50\n",
      "1\n",
      "2\n",
      "issue with range\n",
      "issue with range\n",
      "issue with range\n",
      "issue with range\n",
      "issue with range\n",
      "issue with range\n",
      "issue with range\n",
      "issue with range\n",
      "issue with range\n",
      "3\n",
      "issue with range\n",
      "issue with range\n",
      "4\n",
      "5\n",
      "6\n",
      "7\n",
      "issue with range\n",
      "issue with range\n",
      "issue with range\n",
      "issue with range\n",
      "issue with range\n",
      "issue with range\n",
      "8\n",
      "9\n",
      "issue with range\n",
      "issue with range\n",
      "issue with range\n",
      "issue with range\n",
      "issue with range\n",
      "issue with range\n",
      "10\n",
      "11\n",
      "issue with range\n",
      "12\n",
      "13\n",
      "issue with range\n",
      "issue with range\n",
      "14\n",
      "15\n",
      "issue with range\n",
      "16\n",
      "17\n",
      "issue with range\n",
      "issue with range\n",
      "18\n",
      "19\n",
      "issue with range\n",
      "issue with range\n",
      "issue with range\n",
      "20\n",
      "21\n",
      "issue with range\n",
      "issue with range\n",
      "issue with range\n",
      "22\n",
      "23\n",
      "issue with range\n",
      "24\n",
      "issue with range\n",
      "issue with range\n",
      "issue with range\n",
      "25\n",
      "26\n",
      "27\n",
      "issue with range\n",
      "28\n",
      "issue with range\n",
      "issue with range\n",
      "29\n",
      "30\n",
      "issue with range\n",
      "31\n",
      "32\n",
      "33\n",
      "34\n",
      "35\n",
      "36\n",
      "issue with range\n",
      "37\n",
      "38\n",
      "39\n",
      "40\n",
      "issue with range\n",
      "issue with range\n",
      "issue with range\n",
      "41\n",
      "42\n",
      "43\n",
      "issue with range\n",
      "issue with range\n",
      "issue with range\n",
      "44\n",
      "issue with range\n",
      "45\n",
      "46\n",
      "47\n",
      "48\n",
      "49\n",
      "50\n"
     ]
    }
   ],
   "source": [
    "# try the pop average\n",
    "npts_all = []\n",
    "npts_all_str = []\n",
    "\n",
    "#userange = range(1,21)\n",
    "#userange = [2,3,4,5,6,7,8,9,10,11,13,14,15,16,18,19]  #until all networks are done\n",
    "userange = range(1,51)\n",
    "\n",
    "eps = 0.01\n",
    "doadaptive = True\n",
    "\n",
    "\n",
    "for j in userange:\n",
    "    print(j)\n",
    "    st = 'all'\n",
    "    ttype = 'full_cl_time'\n",
    "    epoch = 'wait'\n",
    "    num = j\n",
    "    reg_idx = 0\n",
    "    dirnames, tphase = getdirname(ttype,epoch,num,reg_idx)\n",
    "    npts_kind_wait = getnpts(dirnames,tphase,st, eps=eps, doadaptive=doadaptive)\n",
    "    npts_j = np.array(npts_kind_wait[0])+np.array(npts_kind_wait[1])\n",
    "    npts_all.append(npts_j)\n",
    "    \n",
    "for j in userange:\n",
    "    print(j)\n",
    "    st = 'all'\n",
    "    ttype = 'full_cl_time'\n",
    "    epoch = 'wait'\n",
    "    num = j\n",
    "    reg_idx = 1\n",
    "    dirnames, tphase_str = getdirname(ttype,epoch,num,reg_idx)\n",
    "    npts_kind_wait = getnpts(dirnames,tphase,st, eps=eps, doadaptive=doadaptive)\n",
    "    npts_j = np.array(npts_kind_wait[0])+np.array(npts_kind_wait[1])\n",
    "    npts_all_str.append(npts_j)\n"
   ]
  },
  {
   "cell_type": "code",
   "execution_count": 32,
   "id": "f95383da",
   "metadata": {},
   "outputs": [],
   "source": [
    "#  omit nans from tphase and npts\n",
    "tphase_list = []\n",
    "X_nonan = []\n",
    "for j in npts_all:\n",
    "    tphase_cpy = copy.deepcopy(tphase)\n",
    "    test = np.argwhere(~np.isnan(j))[:,0]\n",
    "    \n",
    "    x_j = list(np.array(j)[test])\n",
    "    \n",
    "    tphase_list.append(list(np.array(tphase_cpy)[test]))\n",
    "    X_nonan.append(x_j)\n",
    "    \n",
    "    \n",
    "tphase_list_str = []\n",
    "X_nonan_str = []\n",
    "for j in npts_all_str:\n",
    "    tphase_cpy = copy.deepcopy(tphase_str)\n",
    "    test = np.argwhere(~np.isnan(j))[:,0]\n",
    "    \n",
    "    x_j = list(np.array(j)[test])\n",
    "    \n",
    "    tphase_list_str.append(list(np.array(tphase_cpy)[test]))\n",
    "    X_nonan_str.append(x_j)\n",
    "    \n",
    "    \n",
    "#number 44 didn't finish in striatum for some reason. pop it\n",
    "_ = tphase_list_str.pop(44)\n",
    "_ = X_nonan_str.pop(44)\n"
   ]
  },
  {
   "cell_type": "code",
   "execution_count": 33,
   "id": "a70eaedc",
   "metadata": {},
   "outputs": [],
   "source": [
    "#find the events on a network-by-network basis\n",
    "events_idx = [list(np.argwhere(np.diff(k)>0)[:,0]) for k in tphase_list]\n",
    "#add final event\n",
    "_ = [events_idx[k].append(len(tphase_list[k])-1) for k in range(len(tphase_list))]\n",
    "\n",
    "events_idx_str = [list(np.argwhere(np.diff(k)>0)[:,0]) for k in tphase_list_str]\n",
    "#add final event\n",
    "_ = [events_idx_str[k].append(len(tphase_list_str[k])-1) for k in range(len(tphase_list_str))]\n"
   ]
  },
  {
   "cell_type": "code",
   "execution_count": 34,
   "id": "004a4421",
   "metadata": {},
   "outputs": [],
   "source": [
    "def warp_new(X,ev_idx, medians = None):\n",
    "    \"\"\" will warp to median timing of each event. events_idx must be matrix. X is variable length list\"\"\"\n",
    "    \n",
    "    Xcpy = copy.deepcopy(X)\n",
    "    nevents = len(ev_idx[0])-1\n",
    "    if medians is None:\n",
    "        medians = []  \n",
    "        print(nevents)\n",
    "        for j in range(nevents+1):\n",
    "            ev_j = [k[j] for k in ev_idx]\n",
    "            medians.append(int(np.median(ev_j)))\n",
    "\n",
    "            \n",
    "    ntrials = len(ev_idx)\n",
    "    ntwarped = medians[-1]\n",
    "    tlen = list(np.diff(medians))\n",
    "    medians = np.array(medians)\n",
    "\n",
    "\n",
    "    Tratio = medians/ntwarped # proportion of warped trial that epoch should occupy\n",
    "    twarp = [np.linspace(Tratio[k], Tratio[k+1], tlen[k]) for k in range(0, nevents)] \n",
    "\n",
    "    ind = 0\n",
    "    Xwarped = []\n",
    "\n",
    "    print('numbver of rnns')\n",
    "    print(len(ev_idx))\n",
    "\n",
    "    for k in range(ntrials):\n",
    "        Xwarp_k = []\n",
    "        for m in range(nevents):\n",
    "            idx1 = ev_idx[k][m]\n",
    "            idx2 = ev_idx[k][m + 1]\n",
    "\n",
    "            d1 = Xcpy[k][idx1:idx2 + 1]\n",
    "\n",
    "            if len(d1) > 1:\n",
    "                tvec = np.linspace(Tratio[m], Tratio[m + 1], len(d1))\n",
    "                f = interpolate.interp1d(tvec, d1, axis=0)\n",
    "                d1_warped = f(twarp[m])\n",
    "            else: #coincident events\n",
    "                d1_warped = Xcpy[k,idx1]*np.ones(len(twarp[m]))            \n",
    "\n",
    "            Xwarp_k.extend(d1_warped)\n",
    "\n",
    "        Xwarped.append(Xwarp_k)\n",
    "\n",
    "\n",
    "    return Xwarped,medians,twarp\n",
    "    "
   ]
  },
  {
   "cell_type": "code",
   "execution_count": 35,
   "id": "1d92d0b5",
   "metadata": {},
   "outputs": [
    {
     "name": "stdout",
     "output_type": "stream",
     "text": [
      "5\n",
      "numbver of rnns\n",
      "50\n",
      "numbver of rnns\n",
      "49\n"
     ]
    }
   ],
   "source": [
    "#test = np.array(npts_all)\n",
    "#test[0]\n",
    "npts_all_warped,Tmedians, twarp = warp_new(X_nonan, events_idx)\n",
    "npts_all_warped_str,Tmedians_str, twarp_str = warp_new(X_nonan_str, events_idx_str, medians = Tmedians)\n"
   ]
  },
  {
   "cell_type": "code",
   "execution_count": 30,
   "id": "58ace926",
   "metadata": {},
   "outputs": [
    {
     "data": {
      "text/plain": [
       "[]"
      ]
     },
     "execution_count": 30,
     "metadata": {},
     "output_type": "execute_result"
    }
   ],
   "source": [
    "X_nonan"
   ]
  },
  {
   "cell_type": "code",
   "execution_count": null,
   "id": "d71e7c95",
   "metadata": {},
   "outputs": [],
   "source": [
    "Tmedians"
   ]
  },
  {
   "cell_type": "code",
   "execution_count": 36,
   "id": "c546f01a",
   "metadata": {},
   "outputs": [
    {
     "name": "stdout",
     "output_type": "stream",
     "text": [
      "[ 0  9 31 41 51 60]\n"
     ]
    },
    {
     "data": {
      "image/png": "[encoded data removed]",
      "text/plain": [
       "<Figure size 432x288 with 1 Axes>"
      ]
     },
     "metadata": {
      "needs_background": "light"
     },
     "output_type": "display_data"
    }
   ],
   "source": [
    "#fig D plotting\n",
    "\n",
    "warped = True\n",
    "\n",
    "if warped:\n",
    "    nuse_ofc = npts_all_warped  \n",
    "    nuse_str = npts_all_warped_str\n",
    "    ev_use = Tmedians\n",
    "    ev_use_str = Tmedians_str\n",
    "else:\n",
    "    nuse_ofc = npts_all\n",
    "    nuse_str = npts_all_str\n",
    "    ev_use = tphase\n",
    "    ev_use_str = tphase_str\n",
    "    \n",
    "\n",
    "\n",
    "#ofc\n",
    "npts_filt = np.nanmean(np.array(nuse_ofc),0)\n",
    "numrnns = np.sum(~np.isnan(nuse_ofc),axis=0)\n",
    "npts_std = np.nanstd(np.array(nuse_ofc),0)/np.sqrt(numrnns)\n",
    "\n",
    "#str\n",
    "npts_filt_str = np.nanmean(np.array(nuse_str),0)\n",
    "numrnns_str = np.sum(~np.isnan(nuse_str),axis=0)\n",
    "npts_std_str = np.nanstd(np.array(nuse_str),0)/np.sqrt(numrnns_str)\n",
    "\n",
    "\n",
    "plt.plot(npts_filt,label='ofc')\n",
    "plt.fill_between(range(len(npts_filt)),npts_filt-npts_std, npts_filt+npts_std,alpha=0.5 )\n",
    "\n",
    "plt.plot(npts_filt_str,label='str')\n",
    "plt.fill_between(range(len(npts_filt_str)),npts_filt_str-npts_std_str, npts_filt_str+npts_std_str,alpha=0.5 )\n",
    "\n",
    "\n",
    "plt.title('population average of number fixed points: ')\n",
    "plt.legend()\n",
    "\n",
    "#change_idx = np.argwhere(np.diff(ev_use)>0)[:,0]\n",
    "\n",
    "change_idx = ev_use\n",
    "print(change_idx)\n",
    "for k in change_idx:\n",
    "    plt.vlines(k+0.5,0,5,color='k')\n",
    "\n",
    "xdict = {0:'simple', 1:'hard', 2:'inf.', 3:'nocatch', 4:'catch', 5:'block'}\n",
    "labels = ['hard','inf','nocatch','catch','block']\n",
    "plt.xticks(change_idx[:-1], labels=labels)\n",
    "\n",
    "savename = savedir+'keplot_overtraining_pop'\n",
    "plt.savefig(savename +'.pdf')\n",
    "\n",
    "plt.show()"
   ]
  },
  {
   "cell_type": "code",
   "execution_count": 294,
   "id": "52e35b94",
   "metadata": {},
   "outputs": [
    {
     "data": {
      "text/plain": [
       "51"
      ]
     },
     "execution_count": 294,
     "metadata": {},
     "output_type": "execute_result"
    }
   ],
   "source": [
    "len(npts_filt)"
   ]
  },
  {
   "cell_type": "code",
   "execution_count": 15,
   "id": "7069d10b",
   "metadata": {},
   "outputs": [],
   "source": [
    "# try analyzing the number and type over learning\n",
    "#st = 'fixed'\n",
    "st = 'all'\n",
    "ttype = 'full_cl_time'\n",
    "epoch = 'wait'\n",
    "num = 5\n",
    "reg_idx = 0\n",
    "dirnames, tphase = getdirname(ttype,epoch,num,reg_idx)\n",
    "npts_kind_wait = getnpts(dirnames,tphase,st, eps=eps)\n",
    "\n"
   ]
  },
  {
   "cell_type": "code",
   "execution_count": 16,
   "id": "d65d8786",
   "metadata": {},
   "outputs": [
    {
     "name": "stdout",
     "output_type": "stream",
     "text": [
      "141\n",
      "65\n"
     ]
    },
    {
     "data": {
      "text/plain": [
       "[<matplotlib.lines.Line2D at 0x147bdd2d8100>]"
      ]
     },
     "execution_count": 16,
     "metadata": {},
     "output_type": "execute_result"
    },
    {
     "data": {
      "image/png": "[encoded data removed]",
      "text/plain": [
       "<Figure size 432x288 with 1 Axes>"
      ]
     },
     "metadata": {
      "needs_background": "light"
     },
     "output_type": "display_data"
    }
   ],
   "source": [
    "\n",
    "npts_filt = np.array(npts_kind_wait[0])+np.array(npts_kind_wait[1])\n",
    "\n",
    "npts_filt.shape\n",
    "good_idx = np.argwhere(~np.isnan(npts_filt))[:,0]\n",
    "len(good_idx)\n",
    "npts_filt = npts_filt[good_idx]\n",
    "len(npts_filt)\n",
    "print(len(tphase))\n",
    "\n",
    "tphase_filt = np.array(tphase)[good_idx]\n",
    "\n",
    "print(len(tphase_filt))\n",
    "\n",
    "plt.plot(npts_filt,label='all')"
   ]
  },
  {
   "cell_type": "code",
   "execution_count": null,
   "id": "1994529e",
   "metadata": {},
   "outputs": [],
   "source": [
    "# supp fig. individual networks\n",
    "\n",
    "# try analyzing the number and type over learning\n",
    "#st = 'fixed'\n",
    "st = 'all'\n",
    "ttype = 'full_cl_time'\n",
    "epoch = 'wait'\n",
    "num = 3\n",
    "reg_idx = 0\n",
    "eps = 0.1\n",
    "doadaptive = True\n",
    "dirnames, tphase = getdirname(ttype,epoch,num,reg_idx)\n",
    "npts_kind_wait = getnpts(dirnames,tphase,st, eps=eps, doadaptive= doadaptive)\n",
    "\n",
    "npts_filt = np.array(npts_kind_wait[0])+np.array(npts_kind_wait[1])\n",
    "good_idx = np.argwhere(~np.isnan(npts_filt))[:,0]\n",
    "npts_filt = npts_filt[good_idx]\n",
    "tphase_filt = np.array(tphase)[good_idx]\n",
    "\n",
    "plt.plot(npts_filt,label='all')\n",
    "\n",
    "#plt.plot(npts_kind_wait[0],label='fixed')\n",
    "#plt.plot(npts_kind_wait[1],label='slow')\n",
    "regd = {0:'OFC', 1:'STR'}\n",
    "\n",
    "plt.title('number of KE points over training RNN'+str(num)+', '+regd[reg_idx])\n",
    "plt.legend()\n",
    "change_idx = np.argwhere(np.diff(tphase_filt)>0)[:,0]\n",
    "for k in change_idx:\n",
    "    plt.vlines(k+0.5,0,5,color='k')\n",
    "\n",
    "xdict = {0:'simple', 1:'hard', 2:'inf.', 3:'nocatch', 4:'catch', 5:'block'}\n",
    "labels = [xdict[tphase_filt[k+1]] for k in change_idx]\n",
    "plt.xticks(change_idx, labels=labels)\n",
    "\n",
    "savename = savedir + 'kemin_overtraining_rnn'+str(num)+'_reg'+str(reg_idx)\n",
    "plt.savefig(savename+'.pdf')\n",
    "\n",
    "\n",
    "plt.show()\n",
    "\n",
    "\n",
    "#by node type\n",
    "\n",
    "npts_filt = np.array(npts_kind_wait[0])+np.array(npts_kind_wait[1])\n",
    "good_idx = np.argwhere(~np.isnan(npts_filt))[:,0]\n",
    "npts_filt = npts_filt[good_idx]\n",
    "tphase_filt = np.array(tphase)[good_idx]\n",
    "\n",
    "plt.plot(np.array(npts_kind_wait[3][0])[good_idx],label='attractors')\n",
    "plt.plot(np.array(npts_kind_wait[3][1])[good_idx],label='saddles')\n",
    "plt.plot(np.array(np.array(npts_kind_wait[3][2])[good_idx])+0.1,label='lines')\n",
    "#plt.plot(npts_kind_wait[3][3],label='sources')\n",
    "plt.title('number of KE points over training RNN'+str(num)+', '+regd[reg_idx]+'. rel_eps='+str(eps))\n",
    "plt.legend()\n",
    "\n",
    "change_idx = np.argwhere(np.diff(tphase_filt)>0)[:,0]\n",
    "for k in change_idx:\n",
    "    plt.vlines(k+0.5,0,5,color='k')\n",
    "\n",
    "xdict = {0:'simple', 1:'hard', 2:'inf.', 3:'nocatch', 4:'catch', 5:'block'}\n",
    "labels = [xdict[tphase_filt[k+1]] for k in change_idx]\n",
    "plt.xticks(change_idx, labels=labels)\n",
    "\n",
    "\n",
    "#savename = savedir + 'kemin_overtraining_bytype_rnn'+str(num)+'_reg'+str(reg_idx)\n",
    "#plt.savefig(savename+'.pdf')\n",
    "\n",
    "plt.show()"
   ]
  },
  {
   "cell_type": "code",
   "execution_count": null,
   "id": "c58ef285",
   "metadata": {},
   "outputs": [],
   "source": []
  },
  {
   "cell_type": "code",
   "execution_count": 201,
   "id": "ef7c8ec3",
   "metadata": {},
   "outputs": [
    {
     "name": "stderr",
     "output_type": "stream",
     "text": [
      "/state/partition1/job-40654310/ipykernel_3965862/4003007559.py:42: RuntimeWarning: divide by zero encountered in true_divide\n",
      "  sdiffnorm = 2 * np.sqrt(KE) * lam / (np.linalg.norm(crds, axis=1))\n"
     ]
    }
   ],
   "source": [
    "#gather number of saddles, lines, attractors for each network, do stats\n",
    "\n",
    "n_attractor = []\n",
    "n_saddles = []\n",
    "n_lines = []\n",
    "restrictrange = False\n",
    "n_tot = []\n",
    "\n",
    "for num in range(1,51):\n",
    "    st = 'all'\n",
    "    ttype = 'full_cl_time'\n",
    "    epoch = 'wait'\n",
    "    reg_idx = 0\n",
    "    eps = 0.01\n",
    "    doadaptive = True\n",
    "    restrictrange = False\n",
    "    \n",
    "    dirnames, tphase = getdirname(ttype,epoch,num,reg_idx)\n",
    "    try:\n",
    "        dirnames = ['/scratch/dh148/dynamics/results/rnn/ac/20231003/full_cl/dynamics/KEmin_constrained/kemin_rnn_curric_'+str(num)+'_block_10reg_0_mixed_wait.dat']\n",
    "        npts_kind_wait = getnpts(dirnames,tphase,st, eps=eps, doadaptive= doadaptive,restrictrange=restrictrange)\n",
    "    except:\n",
    "        continue\n",
    "\n",
    "\n",
    "    n_attractor.append(npts_kind_wait[3][0][-1])\n",
    "    n_saddles.append(npts_kind_wait[3][1][-1])\n",
    "    n_lines.append(npts_kind_wait[3][2][-1])\n",
    "    n_tot.append(npts_kind_wait[2])\n",
    "    "
   ]
  },
  {
   "cell_type": "code",
   "execution_count": 195,
   "id": "26df9f01",
   "metadata": {},
   "outputs": [
    {
     "name": "stdout",
     "output_type": "stream",
     "text": [
      "45\n"
     ]
    }
   ],
   "source": [
    "print(len(n_attractor))\n"
   ]
  },
  {
   "cell_type": "code",
   "execution_count": 197,
   "id": "f54a1430",
   "metadata": {},
   "outputs": [
    {
     "data": {
      "image/png": "[encoded data removed]",
      "text/plain": [
       "<Figure size 432x288 with 1 Axes>"
      ]
     },
     "metadata": {
      "needs_background": "light"
     },
     "output_type": "display_data"
    },
    {
     "data": {
      "image/png": "[encoded data removed]",
      "text/plain": [
       "<Figure size 432x288 with 1 Axes>"
      ]
     },
     "metadata": {
      "needs_background": "light"
     },
     "output_type": "display_data"
    },
    {
     "data": {
      "image/png": "[encoded data removed]",
      "text/plain": [
       "<Figure size 432x288 with 1 Axes>"
      ]
     },
     "metadata": {
      "needs_background": "light"
     },
     "output_type": "display_data"
    }
   ],
   "source": [
    "plt.hist(n_attractor,stacked=False)\n",
    "plt.title('attractors')\n",
    "plt.xticks([0,1,2])\n",
    "plt.show()\n",
    "\n",
    "plt.hist(n_saddles,stacked=False)\n",
    "plt.title('saddles')\n",
    "plt.xticks([0,1,2,3])\n",
    "plt.show()\n",
    "\n",
    "\n",
    "plt.hist(n_lines,bins=list(range(20)))\n",
    "plt.title('lines')\n",
    "plt.xticks([0,1,2,5,10,20])\n",
    "plt.show()\n"
   ]
  },
  {
   "cell_type": "code",
   "execution_count": 202,
   "id": "5f2750e8",
   "metadata": {},
   "outputs": [
    {
     "data": {
      "image/png": "[encoded data removed]",
      "text/plain": [
       "<Figure size 720x720 with 1 Axes>"
      ]
     },
     "metadata": {
      "needs_background": "light"
     },
     "output_type": "display_data"
    }
   ],
   "source": [
    "fig = plt.figure(figsize=(10,10))\n",
    "ax = fig.add_subplot(projection='3d')\n",
    "\n",
    "n_atr = np.array(n_attractor)\n",
    "n_sad = np.array(n_saddles)\n",
    "n_line = np.array(n_lines)\n",
    "\n",
    "mask_n0 = n_sad==0\n",
    "mask_n1 = n_sad==1\n",
    "mask_n2 = n_sad==2\n",
    "mask_n3 = n_sad==3\n",
    "\n",
    "#ax.scatter(n_atr[mask_n0], n_sad[mask_n0], n_line[mask_n0],color='red')\n",
    "ax.scatter(n_atr[mask_n1], n_sad[mask_n1], n_line[mask_n1],color='blue')\n",
    "#ax.scatter(n_atr[mask_n2], n_sad[mask_n2], n_line[mask_n2],color='green')\n",
    "#ax.scatter(n_atr[mask_n3], n_sad[mask_n3], n_line[mask_n3],color='magenta')\n",
    "ax.set_xlabel('attractors')\n",
    "ax.set_ylabel('saddles')\n",
    "ax.set_zlabel('lines')\n",
    "ax.view_init(elev=00, azim=90)\n",
    "ax.set_xticks([0,1,2])\n",
    "ax.set_yticks([0,1,2])\n",
    "plt.xticks\n",
    "\n",
    "plt.title('feature types at end of training, by network')\n",
    "\n",
    "plt.show()"
   ]
  },
  {
   "cell_type": "code",
   "execution_count": 214,
   "id": "0f409fc3",
   "metadata": {},
   "outputs": [
    {
     "data": {
      "image/png": "[encoded data removed]",
      "text/plain": [
       "<Figure size 360x360 with 1 Axes>"
      ]
     },
     "metadata": {
      "needs_background": "light"
     },
     "output_type": "display_data"
    }
   ],
   "source": [
    "fig = plt.figure(figsize=(5,5))\n",
    "ax = fig.add_subplot()\n",
    "\n",
    "n_atr = np.array(n_attractor)\n",
    "n_sad = np.array(n_saddles)\n",
    "n_line = np.array(n_lines)\n",
    "\n",
    "mask_n0 = n_sad==0\n",
    "mask_n1 = n_sad==1\n",
    "mask_n2 = n_sad==2\n",
    "mask_n3 = n_sad==3\n",
    "\n",
    "#ax.scatter(n_atr[mask_n0], n_line[mask_n0],color='red', s=50)\n",
    "#ax.scatter(n_atr[mask_n1], n_line[mask_n1],color='blue',s=50)\n",
    "#ax.scatter(n_atr[mask_n2], n_line[mask_n2],color='green',s=50)\n",
    "ax.scatter(n_atr[mask_n3], n_line[mask_n3],color='magenta')\n",
    "ax.set_xlabel('attractors')\n",
    "ax.set_ylabel('lines')\n",
    "ax.set_xticks([0,1,2])\n",
    "#ax.set_yticks([0,1,2])\n",
    "plt.grid()\n",
    "\n",
    "plt.title('feature types at end of training, by network. w/ 3 saddle')\n",
    "\n",
    "plt.show()"
   ]
  },
  {
   "cell_type": "code",
   "execution_count": 125,
   "id": "cd3800bd",
   "metadata": {},
   "outputs": [],
   "source": [
    "linelens = []\n",
    "for j in range(len(npts_kind_wait[7])):\n",
    "    lines_j = []\n",
    "    for k in range(len(npts_kind_wait[7][j])):\n",
    "        if npts_kind_wait[7][j][k] == 'line':\n",
    "            lines_j.append(npts_kind_wait[6][j][k])\n",
    "    if len(lines_j) > 0:\n",
    "        linelens.append(lines_j)\n",
    "        \n",
    "        \n",
    "test = [np.sum(np.array(k)) for k in linelens]\n"
   ]
  },
  {
   "cell_type": "code",
   "execution_count": 126,
   "id": "016f6e27",
   "metadata": {},
   "outputs": [
    {
     "data": {
      "text/plain": [
       "Text(0.5, 1.0, 'total length of all line attractors over training')"
      ]
     },
     "execution_count": 126,
     "metadata": {},
     "output_type": "execute_result"
    },
    {
     "data": {
      "image/png": "[encoded data removed]",
      "text/plain": [
       "<Figure size 432x288 with 1 Axes>"
      ]
     },
     "metadata": {
      "needs_background": "light"
     },
     "output_type": "display_data"
    }
   ],
   "source": [
    "plt.plot(test)\n",
    "plt.title('total length of all line attractors over training')"
   ]
  },
  {
   "cell_type": "code",
   "execution_count": 86,
   "id": "b787c9a4",
   "metadata": {},
   "outputs": [
    {
     "name": "stdout",
     "output_type": "stream",
     "text": [
      "[2, 3, 4, 5, 6, 7, 8, 9, 10, 11, 12, 13, 14, 15, 16, 18, 19]\n"
     ]
    }
   ],
   "source": [
    "# eventual fig.  try to correlate wait time behavior with number or type of features\n",
    "\n",
    "#the real dir\n",
    "subdirlist = ['full_cl/', 'nok_cl/','nok_nocl/', 'full_cl_redo/', 'pkind_mem/', 'pkind_pred/']\n",
    "dbase = '/scratch/dh148/dynamics/results/rnn/ac/20230206_clstudy/'\n",
    "datadir_dat = lambda s_idx: dbase+subdirlist[s_idx]\n",
    "configdir = lambda s_idx: '/home/dh148/projects/dynamics/jobs/20230206_clstudy/rnn/'+subdirlist[s_idx]\n",
    "\n",
    "\n",
    "fgen = lambda num,idx, base, sess, s_idx : datadir_dat(s_idx)+str(num)+'/'+base + str(num)+'_'+sess+'_'+str(idx)\n",
    "\n",
    "fname_funs = [lambda num,idx, s_idx: datadir_dat(s_idx)+str(num)+'/'+'rnn_kindergarten_' + str(num)+'_simple',\n",
    "              lambda num,idx, s_idx: datadir_dat(s_idx)+str(num)+'/'+'rnn_kindergarten_' + str(num)+'_int',\n",
    "              lambda num,idx, s_idx: datadir_dat(s_idx)+str(num)+'/'+'rnn_pred_' + str(num)+'_pred_1',\n",
    "              lambda num,idx, s_idx: fgen(num, idx, 'rnn_curric_', 'nocatch', s_idx),\n",
    "              lambda num,idx, s_idx: fgen(num, idx, 'rnn_curric_', 'catch', s_idx),\n",
    "              lambda num,idx, s_idx: fgen(num, idx, 'rnn_curric_', 'block', s_idx),\n",
    "              lambda num,idx, s_idx: fgen(num, idx, 'rnn_curric_', 'block', s_idx)+'_freeze'\n",
    "             ]\n",
    "\n",
    "\n",
    "#decide here what you want to look at\n",
    "idx = 10  # plce in CL stage\n",
    "t_idx = 5  # CL stage\n",
    "s_idx = 3 #CL type\n",
    "fname_fun_j = lambda j: fname_funs[t_idx](j,idx, s_idx)+'.stats'\n",
    "\n",
    "\n",
    "numuse = []\n",
    "for j in range(1,21):\n",
    "    fname_stats = fname_fun_j(j)\n",
    "\n",
    "    if os.path.exists(fname_stats):\n",
    "        numuse.append(j)\n",
    "print(numuse)\n",
    "        \n",
    "nuse = len(numuse)\n",
    "ratios = []\n",
    "\n",
    "\n",
    "for j in numuse:\n",
    "    num = j\n",
    "    fname_stats = fname_fun_j(j)\n",
    "    #print(fname_stats)\n",
    "    dat_stat = pickle.load(open(fname_stats,'rb'))\n",
    "    pval,slope,adapt_20_ratio,nums, wtrange,b, wtdat, reg_histdat, reg_blockdat = parse.load_dat4stats(fname_stats)\n",
    "    ratios.append(adapt_20_ratio)\n",
    "\n"
   ]
  },
  {
   "cell_type": "code",
   "execution_count": 111,
   "id": "d5387c52",
   "metadata": {},
   "outputs": [],
   "source": [
    "reg_idx = 0\n",
    "st = 'all'\n",
    "\n",
    "dirnames, tphase = getdirname('full_cl','wait', reg_idx=reg_idx)\n",
    "npts_kind_wait = getnpts(dirnames,tphase,st)\n",
    "\n",
    "nfix = npts_kind_wait[0]\n",
    "nslow = npts_kind_wait[1]\n",
    "npt = npts_kind_wait[2]\n",
    "nattractor = npts_kind_wait[3][0]\n",
    "nsaddle = npts_kind_wait[3][1]\n",
    "nline = npts_kind_wait[3][2]\n",
    "nsource = npts_kind_wait[3][3]\n",
    "\n",
    "#the rnn number in the KE indexing\n",
    "kenum = [int(k.split('/')[-1].split('_')[3]) for k in dirnames]"
   ]
  },
  {
   "cell_type": "code",
   "execution_count": 123,
   "id": "e8b7dacc",
   "metadata": {},
   "outputs": [
    {
     "data": {
      "text/plain": [
       "15"
      ]
     },
     "execution_count": 123,
     "metadata": {},
     "output_type": "execute_result"
    }
   ],
   "source": [
    "len(nslow)"
   ]
  },
  {
   "cell_type": "code",
   "execution_count": 129,
   "id": "8a86031a",
   "metadata": {},
   "outputs": [
    {
     "data": {
      "image/png": "[encoded data removed]",
      "text/plain": [
       "<Figure size 432x288 with 1 Axes>"
      ]
     },
     "metadata": {
      "needs_background": "light"
     },
     "output_type": "display_data"
    },
    {
     "data": {
      "image/png": "[encoded data removed]",
      "text/plain": [
       "<Figure size 432x288 with 1 Axes>"
      ]
     },
     "metadata": {
      "needs_background": "light"
     },
     "output_type": "display_data"
    },
    {
     "data": {
      "image/png": "[encoded data removed]",
      "text/plain": [
       "<Figure size 432x288 with 1 Axes>"
      ]
     },
     "metadata": {
      "needs_background": "light"
     },
     "output_type": "display_data"
    },
    {
     "data": {
      "image/png": "[encoded data removed]",
      "text/plain": [
       "<Figure size 432x288 with 1 Axes>"
      ]
     },
     "metadata": {
      "needs_background": "light"
     },
     "output_type": "display_data"
    },
    {
     "data": {
      "image/png": "[encoded data removed]",
      "text/plain": [
       "<Figure size 432x288 with 1 Axes>"
      ]
     },
     "metadata": {
      "needs_background": "light"
     },
     "output_type": "display_data"
    }
   ],
   "source": [
    "indexing = np.array([numuse.index(k) for k in kenum])\n",
    "test = np.array(ratios)[indexing]\n",
    "plt.scatter(npt,test)\n",
    "plt.title('number of dynamical features and wt. ratio. kind')\n",
    "plt.xlabel('number of features')\n",
    "plt.ylabel('wt ratio')\n",
    "plt.show()\n",
    "\n",
    "indexing = np.array([numuse.index(k) for k in kenum])\n",
    "plt.scatter(nslow,test)\n",
    "plt.title('number of slow points and wt. ratio. kind')\n",
    "plt.xlabel('number of features')\n",
    "plt.ylabel('wt ratio')\n",
    "plt.show()\n",
    "\n",
    "indexing = np.array([numuse.index(k) for k in kenum])\n",
    "plt.scatter(nline,test)\n",
    "plt.title('number of line attractors and wt. ratio. kind')\n",
    "plt.xlabel('number of features')\n",
    "plt.ylabel('wt ratio')\n",
    "plt.show()\n",
    "\n",
    "indexing = np.array([numuse.index(k) for k in kenum])\n",
    "plt.scatter(nattractor,test)\n",
    "plt.title('number of point attractors and wt. ratio. kind')\n",
    "plt.xlabel('number of features')\n",
    "plt.ylabel('wt ratio')\n",
    "plt.show()\n",
    "\n",
    "indexing = np.array([numuse.index(k) for k in kenum])\n",
    "plt.scatter(nsaddle,test)\n",
    "plt.title('number of saddles and wt. ratio. kind')\n",
    "plt.xlabel('number of features')\n",
    "plt.ylabel('wt ratio')\n",
    "plt.show()\n",
    "\n"
   ]
  },
  {
   "cell_type": "code",
   "execution_count": 120,
   "id": "597a0bda",
   "metadata": {},
   "outputs": [
    {
     "name": "stdout",
     "output_type": "stream",
     "text": [
      "3\n",
      "0.5517150141837674\n"
     ]
    },
    {
     "data": {
      "text/plain": [
       "0.5517150141837674"
      ]
     },
     "execution_count": 120,
     "metadata": {},
     "output_type": "execute_result"
    }
   ],
   "source": [
    "print(numuse.index(kenum[1]))\n",
    "print(ratios[3])\n",
    "test[1]"
   ]
  },
  {
   "cell_type": "code",
   "execution_count": 101,
   "id": "4d1e8a15",
   "metadata": {},
   "outputs": [
    {
     "name": "stdout",
     "output_type": "stream",
     "text": [
      "5\n",
      "3\n",
      "0.5517150141837674\n"
     ]
    }
   ],
   "source": [
    "idx = 1\n",
    "print(kenum[idx])\n",
    "print(numuse.index(kenum[idx]))\n",
    "print(ratios[numuse.index(kenum[idx])])"
   ]
  },
  {
   "cell_type": "code",
   "execution_count": 108,
   "id": "5a8bf2cf",
   "metadata": {},
   "outputs": [
    {
     "ename": "ValueError",
     "evalue": "[18, 5, 19, 4, 2, 7, 3, 13, 8, 16, 11, 14, 10, 6, 9] is not in list",
     "output_type": "error",
     "traceback": [
      "\u001b[0;31m---------------------------------------------------------------------------\u001b[0m",
      "\u001b[0;31mValueError\u001b[0m                                Traceback (most recent call last)",
      "\u001b[0;32m/state/partition1/job-37900332/ipykernel_3695196/3147613617.py\u001b[0m in \u001b[0;36m<module>\u001b[0;34m\u001b[0m\n\u001b[0;32m----> 1\u001b[0;31m \u001b[0mnumuse\u001b[0m\u001b[0;34m.\u001b[0m\u001b[0mindex\u001b[0m\u001b[0;34m(\u001b[0m\u001b[0mkenum\u001b[0m\u001b[0;34m)\u001b[0m\u001b[0;34m\u001b[0m\u001b[0;34m\u001b[0m\u001b[0m\n\u001b[0m",
      "\u001b[0;31mValueError\u001b[0m: [18, 5, 19, 4, 2, 7, 3, 13, 8, 16, 11, 14, 10, 6, 9] is not in list"
     ]
    }
   ],
   "source": [
    "[numuse.index(kenum)"
   ]
  },
  {
   "cell_type": "code",
   "execution_count": null,
   "id": "bd08fb3c",
   "metadata": {},
   "outputs": [],
   "source": []
  }
 ],
 "metadata": {
  "kernelspec": {
   "display_name": "singEnv",
   "language": "python",
   "name": "singenv"
  },
  "language_info": {
   "codemirror_mode": {
    "name": "ipython",
    "version": 3
   },
   "file_extension": ".py",
   "mimetype": "text/x-python",
   "name": "python",
   "nbconvert_exporter": "python",
   "pygments_lexer": "ipython3",
   "version": "3.9.5"
  }
 },
 "nbformat": 4,
 "nbformat_minor": 5
}
