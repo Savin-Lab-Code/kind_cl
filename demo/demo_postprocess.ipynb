{
 "cells": [
  {
   "cell_type": "code",
   "execution_count": 3,
   "id": "cb3707e1",
   "metadata": {},
   "outputs": [
    {
     "name": "stdout",
     "output_type": "stream",
     "text": [
      "The autoreload extension is already loaded. To reload it, use:\n",
      "  %reload_ext autoreload\n"
     ]
    }
   ],
   "source": [
    "# will run the entire postprocessing suite\n",
    "\n",
    "import pickle\n",
    "import json\n",
    "from dynamics.process.rnn import wt_protocols\n",
    "from dynamics.process.rnn import parse\n",
    "from dynamics.analysis import KEmin, flowfields, posttraining\n",
    "from dynamics.utils import utils\n",
    "import sys\n",
    "\n",
    "#define some things for a given RNN to load data\n",
    "\n",
    "num = 33  # RNN number\n",
    "s_idx = 0  # CL type (0 = kind + shaping, 1 = shaping, 2 = no shaping)\n",
    "tphase = 5 # phase of training (6:freeze block, 5:block, 4:catch, 3:nocatch, 2:pred, 1:hard kind, 0 simple kind:)\n",
    "idx = 10 # idx within phase\n",
    "epoch = 'wait'  # epoch within trial to handle dynamics. 'wait','start','iti'\n",
    "\n",
    "workdir='/Users/dhocker/projects/kind_cl/'\n",
    "dbase = '/Users/dhocker/projects/kind_cl/data/rnndata/'\n",
    "\n",
    "%load_ext autoreload\n",
    "%autoreload 2\n"
   ]
  },
  {
   "cell_type": "code",
   "execution_count": 13,
   "id": "473dcf24",
   "metadata": {},
   "outputs": [],
   "source": [
    "\n",
    "# options for the postprocessing\n",
    "simops = {}\n",
    "simops['num'] = num\n",
    "simops['s_idx'] = s_idx\n",
    "simops['t_idx'] = tphase\n",
    "simops['epoch'] = epoch\n",
    "simops['simtype'] = 'task'\n",
    "simops['choicetype'] = 'maxbelief'\n",
    "simops['usepcmeans'] = True\n",
    "\n",
    "#get filenames for finding which things to load\n",
    "d = utils.getfnames(num, s_idx, tphase, idx, dbase=dbase,\n",
    "              reg_idx=0, block='mixed', epoch='wait')\n",
    "\n",
    "modelname = d['model']\n",
    "dataname = d['dat_1k']\n",
    "configname = 'block.cfg'\n",
    "\n",
    "# where things get saved. put in test to not overwrite\n",
    "simops['basedirectory'] = workdir  + 'dynamics/analysis/'\n",
    "simops['savedir_KE'] = dbase + 'test/'+ 'dynamics/KEmin_constrained/'\n",
    "simops['savedir_flows'] = dbase + 'test/' + 'dynamics/flows/'\n",
    "simops['savedir_allbeh'] = dbase + 'test/'\n",
    "\n",
    "# booleans to handle resimulation of each piece. will overwrite existing data if true. \n",
    "# so. put everything in test\n",
    "\n",
    "redo = {'sim': True, 'KE': True, 'doKE':True, 'flow': True, 'beh2mat': True, 'allbeh':True}\n"
   ]
  },
  {
   "cell_type": "code",
   "execution_count": null,
   "id": "4f1a6814",
   "metadata": {},
   "outputs": [
    {
     "name": "stdout",
     "output_type": "stream",
     "text": [
      "simulating 1k trials\n",
      "/Users/dhocker/projects/kind_cl/data/rnndata/full_cl/33/rnn_curric_33_block_10_1k.json\n",
      "using config:\n",
      "/Users/dhocker/projects/kind_cl/dynamics/analysis/block.cfg\n",
      "uniqueops: adam_fname not defined in config. using default\n",
      "0\n",
      "8\n",
      "21\n"
     ]
    }
   ],
   "source": [
    "posttraining.run_suite(modelname, dataname, configname, simops, redo)"
   ]
  },
  {
   "cell_type": "code",
   "execution_count": 10,
   "id": "7b792d5e",
   "metadata": {},
   "outputs": [
    {
     "data": {
      "text/plain": [
       "'/Users/dhocker/projects/kind_cl/dynamics/analysis/block.cfg'"
      ]
     },
     "execution_count": 10,
     "metadata": {},
     "output_type": "execute_result"
    }
   ],
   "source": [
    "configname"
   ]
  },
  {
   "cell_type": "code",
   "execution_count": null,
   "id": "d5b2eb12",
   "metadata": {},
   "outputs": [],
   "source": []
  }
 ],
 "metadata": {
  "kernelspec": {
   "display_name": "torchenv",
   "language": "python",
   "name": "torchenv"
  },
  "language_info": {
   "codemirror_mode": {
    "name": "ipython",
    "version": 3
   },
   "file_extension": ".py",
   "mimetype": "text/x-python",
   "name": "python",
   "nbconvert_exporter": "python",
   "pygments_lexer": "ipython3",
   "version": "3.11.6"
  }
 },
 "nbformat": 4,
 "nbformat_minor": 5
}
