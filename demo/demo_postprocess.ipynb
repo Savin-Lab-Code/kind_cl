{
 "cells": [
  {
   "cell_type": "code",
   "execution_count": 1,
   "id": "cb3707e1",
   "metadata": {},
   "outputs": [],
   "source": [
    "# will run the entire postprocessing suite\n",
    "\n",
    "import pickle\n",
    "import json\n",
    "from dynamics.process.rnn import wt_protocols\n",
    "from dynamics.process.rnn import parse\n",
    "from dynamics.analysis import KEmin, flowfields, posttraining\n",
    "from dynamics.utils import utils\n",
    "import sys\n",
    "\n",
    "#define some things for a given RNN to load data\n",
    "\n",
    "num = 33  # RNN number\n",
    "s_idx = 0  # CL type (0 = kind + shaping, 1 = shaping, 2 = no shaping)\n",
    "tphase = 5 # phase of training (6:freeze block, 5:block, 4:catch, 3:nocatch, 2:pred, 1:hard kind, 0 simple kind:)\n",
    "idx = 10 # idx within phase\n",
    "epoch = 'wait'  # epoch within trial to handle dynamics. 'wait','start','iti'\n",
    "\n",
    "workdir='/Users/dhocker/projects/kind_cl/'\n",
    "dbase = '/Users/dhocker/projects/dynamics/results/20231003/'\n",
    "\n",
    "%load_ext autoreload\n",
    "%autoreload 2\n"
   ]
  },
  {
   "cell_type": "code",
   "execution_count": 2,
   "id": "473dcf24",
   "metadata": {},
   "outputs": [],
   "source": [
    "\n",
    "# options for the postprocessing\n",
    "simops = {}\n",
    "simops['num'] = num\n",
    "simops['s_idx'] = s_idx\n",
    "simops['t_idx'] = tphase\n",
    "simops['epoch'] = epoch\n",
    "simops['simtype'] = 'task'\n",
    "\n",
    "#get filenames for finding which things to load\n",
    "d = utils.getfnames(num, s_idx, tphase, idx, dbase=dbase,\n",
    "              reg_idx=0, block='mixed', epoch='wait')\n",
    "\n",
    "modelname = d['model']\n",
    "dataname = d['dat_1k']\n",
    "configname = workdir + 'dynamics/analysis/block.cfg'\n",
    "\n",
    "# where things get saved. put in test to not overwrite\n",
    "simops['basedirectory'] = workdir  + 'dynamics/analysis/'\n",
    "simops['savedir_KE'] = dbase + 'test/'+ 'dynamics/KEmin_constrained/'\n",
    "simops['savedir_flows'] = dbase + 'test/' + 'dynamics/flows/'\n",
    "simops['savedir_allbeh'] = dbase + 'test/'\n",
    "\n",
    "# booleans to handle resimulation of each piece. will overwrite existing data if true. \n",
    "# so. put everything in test\n",
    "\n",
    "redo = {'sim': True, 'KE': True, 'doKE':True, 'flow': True, 'beh2mat': True, 'allbeh':True}\n"
   ]
  },
  {
   "cell_type": "code",
   "execution_count": 3,
   "id": "4f1a6814",
   "metadata": {},
   "outputs": [
    {
     "name": "stdout",
     "output_type": "stream",
     "text": [
      "skipping simulation. already peformed\n",
      "running KE minimization: 0\n",
      "skipping file already exists: /Users/dhocker/projects/dynamics/results/20231003/test/dynamics/KEmin_constrained/kemin_rnn_curric_33_block_10reg_0_mixed_wait.dat\n",
      "running KE minimization: 1\n",
      "running KE for all block types\n",
      "skipping file already exists: /Users/dhocker/projects/dynamics/results/20231003/test/dynamics/KEmin_constrained/kemin_rnn_curric_33_block_10reg_1_mixed_wait.dat\n",
      "skipping file already exists: /Users/dhocker/projects/dynamics/results/20231003/test/dynamics/KEmin_constrained/kemin_rnn_curric_33_block_10reg_1_high_wait.dat\n",
      "skipping file already exists: /Users/dhocker/projects/dynamics/results/20231003/test/dynamics/KEmin_constrained/kemin_rnn_curric_33_block_10reg_1_low_wait.dat\n",
      "running dynamical flow fields for final task stage\n",
      "loading/simulating task data\n",
      "preprocessing data\n",
      "uniqueops: adam_fname not defined in config. using default\n",
      "postprocessing simulation data for dynamics\n",
      "epoch wait\n",
      "building trial masks and getting conditional PSTHs\n"
     ]
    },
    {
     "name": "stderr",
     "output_type": "stream",
     "text": [
      "/Users/dhocker/projects/dynamics/dynamics/process/rnn/parse_state.py:159: RuntimeWarning: Mean of empty slice\n",
      "  psth_ofc_h[m, :, :] = np.nanmean(psth_ofc_h_base, axis=0)\n",
      "/Users/dhocker/projects/dynamics/dynamics/process/rnn/parse_state.py:160: RuntimeWarning: Mean of empty slice\n",
      "  psth_ofc_c[m, :, :] = np.nanmean(psth_ofc_c_base, axis=0)\n",
      "/Users/dhocker/projects/dynamics/dynamics/process/rnn/parse_state.py:161: RuntimeWarning: Mean of empty slice\n",
      "  psth_str_h[m, :, :] = np.nanmean(psth_str_h_base, axis=0)\n",
      "/Users/dhocker/projects/dynamics/dynamics/process/rnn/parse_state.py:162: RuntimeWarning: Mean of empty slice\n",
      "  psth_str_c[m, :, :] = np.nanmean(psth_str_c_base, axis=0)\n",
      "/Users/dhocker/miniconda3/envs/torchenv/lib/python3.11/site-packages/numpy/lib/nanfunctions.py:1879: RuntimeWarning: Degrees of freedom <= 0 for slice.\n",
      "  var = nanvar(a, axis=axis, dtype=dtype, out=out, ddof=ddof,\n"
     ]
    },
    {
     "name": "stdout",
     "output_type": "stream",
     "text": [
      "Dim\n",
      "3\n",
      "3\n"
     ]
    },
    {
     "ename": "KeyboardInterrupt",
     "evalue": "",
     "output_type": "error",
     "traceback": [
      "\u001b[0;31m---------------------------------------------------------------------------\u001b[0m",
      "\u001b[0;31mKeyboardInterrupt\u001b[0m                         Traceback (most recent call last)",
      "Cell \u001b[0;32mIn[3], line 1\u001b[0m\n\u001b[0;32m----> 1\u001b[0m posttraining\u001b[38;5;241m.\u001b[39mrun_suite(modelname, dataname, configname, simops, redo)\n",
      "File \u001b[0;32m~/projects/dynamics/dynamics/analysis/posttraining.py:109\u001b[0m, in \u001b[0;36mrun_suite\u001b[0;34m(modelname, dataname, configname, simops, redo)\u001b[0m\n\u001b[1;32m    106\u001b[0m redomask \u001b[38;5;241m=\u001b[39m (exists(flowname) \u001b[38;5;129;01mand\u001b[39;00m redo[\u001b[38;5;124m'\u001b[39m\u001b[38;5;124mflow\u001b[39m\u001b[38;5;124m'\u001b[39m]) \u001b[38;5;129;01mor\u001b[39;00m \u001b[38;5;129;01mnot\u001b[39;00m exists(flowname)\n\u001b[1;32m    108\u001b[0m \u001b[38;5;28;01mif\u001b[39;00m redomask:\n\u001b[0;32m--> 109\u001b[0m     flowfields\u001b[38;5;241m.\u001b[39mgenflowfields(modelname, dataname, kemin_name, flowname, fo)\n\u001b[1;32m    110\u001b[0m \u001b[38;5;28;01melse\u001b[39;00m:\n\u001b[1;32m    111\u001b[0m     \u001b[38;5;28mprint\u001b[39m(\u001b[38;5;124m'\u001b[39m\u001b[38;5;124mskipping file. already exists: \u001b[39m\u001b[38;5;124m'\u001b[39m\u001b[38;5;241m+\u001b[39mflowname)\n",
      "File \u001b[0;32m~/projects/dynamics/dynamics/analysis/flowfields.py:55\u001b[0m, in \u001b[0;36mgenflowfields\u001b[0;34m(modelname, dataname, kemin_name, savename, flowops, D, block_idx)\u001b[0m\n\u001b[1;32m     51\u001b[0m     dat \u001b[38;5;241m=\u001b[39m wt_protocols\u001b[38;5;241m.\u001b[39msim_task(modelname, configname\u001b[38;5;241m=\u001b[39mtphase_dict[tphase], simtype\u001b[38;5;241m=\u001b[39mtaskdict[tphase])\n\u001b[1;32m     53\u001b[0m \u001b[38;5;28mprint\u001b[39m(\u001b[38;5;124m'\u001b[39m\u001b[38;5;124mpreprocessing data\u001b[39m\u001b[38;5;124m'\u001b[39m)\n\u001b[0;32m---> 55\u001b[0m rd \u001b[38;5;241m=\u001b[39m dyn\u001b[38;5;241m.\u001b[39mdynamics_preprocess_suite(modelname, dat, simtype\u001b[38;5;241m=\u001b[39mtaskdict[tphase], dynops\u001b[38;5;241m=\u001b[39mdynops)\n\u001b[1;32m     57\u001b[0m block \u001b[38;5;241m=\u001b[39m rd[\u001b[38;5;124m'\u001b[39m\u001b[38;5;124mbehdict\u001b[39m\u001b[38;5;124m'\u001b[39m][\u001b[38;5;124m'\u001b[39m\u001b[38;5;124mblocks\u001b[39m\u001b[38;5;124m'\u001b[39m]\n\u001b[1;32m     58\u001b[0m offers \u001b[38;5;241m=\u001b[39m rd[\u001b[38;5;124m'\u001b[39m\u001b[38;5;124mbehdict\u001b[39m\u001b[38;5;124m'\u001b[39m][\u001b[38;5;124m'\u001b[39m\u001b[38;5;124moffers\u001b[39m\u001b[38;5;124m'\u001b[39m]\n",
      "File \u001b[0;32m~/projects/dynamics/dynamics/analysis/dynamics_analysis.py:202\u001b[0m, in \u001b[0;36mdynamics_preprocess_suite\u001b[0;34m(modelname, rdict, simtype, dynops)\u001b[0m\n\u001b[1;32m    200\u001b[0m \u001b[38;5;66;03m# create samples and rename keys\u001b[39;00m\n\u001b[1;32m    201\u001b[0m samps_pcdict_ofc, sampsdict_ofc \u001b[38;5;241m=\u001b[39m parse_state\u001b[38;5;241m.\u001b[39mpca_samples(sflat, tdict, vmask, pca_use\u001b[38;5;241m=\u001b[39mpca_ofc, idx\u001b[38;5;241m=\u001b[39m\u001b[38;5;241m0\u001b[39m)\n\u001b[0;32m--> 202\u001b[0m samps_pcdict_str, sampsdict_str \u001b[38;5;241m=\u001b[39m parse_state\u001b[38;5;241m.\u001b[39mpca_samples(sflat, tdict, vmask, pca_use\u001b[38;5;241m=\u001b[39mpca_str, idx\u001b[38;5;241m=\u001b[39m\u001b[38;5;241m1\u001b[39m)\n\u001b[1;32m    203\u001b[0m \u001b[38;5;28;01mfor\u001b[39;00m k \u001b[38;5;129;01min\u001b[39;00m krange:\n\u001b[1;32m    204\u001b[0m     samps_pcdict_ofc[keys[k]] \u001b[38;5;241m=\u001b[39m samps_pcdict_ofc\u001b[38;5;241m.\u001b[39mpop(k)\n",
      "File \u001b[0;32m~/projects/dynamics/dynamics/process/rnn/parse_state.py:488\u001b[0m, in \u001b[0;36mpca_samples\u001b[0;34m(sflat, tdict, vmask, pca_use, idx)\u001b[0m\n\u001b[1;32m    485\u001b[0m samps_pcdict \u001b[38;5;241m=\u001b[39m {}\n\u001b[1;32m    487\u001b[0m \u001b[38;5;28;01mfor\u001b[39;00m k \u001b[38;5;129;01min\u001b[39;00m sampsdict\u001b[38;5;241m.\u001b[39mkeys():\n\u001b[0;32m--> 488\u001b[0m     samps_pcdict[k] \u001b[38;5;241m=\u001b[39m [pca_use\u001b[38;5;241m.\u001b[39mtransform(m) \u001b[38;5;28;01mfor\u001b[39;00m m \u001b[38;5;129;01min\u001b[39;00m sampsdict[k]]\n\u001b[1;32m    490\u001b[0m \u001b[38;5;28;01mreturn\u001b[39;00m samps_pcdict, sampsdict\n",
      "File \u001b[0;32m~/projects/dynamics/dynamics/process/rnn/parse_state.py:488\u001b[0m, in \u001b[0;36m<listcomp>\u001b[0;34m(.0)\u001b[0m\n\u001b[1;32m    485\u001b[0m samps_pcdict \u001b[38;5;241m=\u001b[39m {}\n\u001b[1;32m    487\u001b[0m \u001b[38;5;28;01mfor\u001b[39;00m k \u001b[38;5;129;01min\u001b[39;00m sampsdict\u001b[38;5;241m.\u001b[39mkeys():\n\u001b[0;32m--> 488\u001b[0m     samps_pcdict[k] \u001b[38;5;241m=\u001b[39m [pca_use\u001b[38;5;241m.\u001b[39mtransform(m) \u001b[38;5;28;01mfor\u001b[39;00m m \u001b[38;5;129;01min\u001b[39;00m sampsdict[k]]\n\u001b[1;32m    490\u001b[0m \u001b[38;5;28;01mreturn\u001b[39;00m samps_pcdict, sampsdict\n",
      "File \u001b[0;32m~/miniconda3/envs/torchenv/lib/python3.11/site-packages/sklearn/utils/_set_output.py:140\u001b[0m, in \u001b[0;36m_wrap_method_output.<locals>.wrapped\u001b[0;34m(self, X, *args, **kwargs)\u001b[0m\n\u001b[1;32m    138\u001b[0m \u001b[38;5;129m@wraps\u001b[39m(f)\n\u001b[1;32m    139\u001b[0m \u001b[38;5;28;01mdef\u001b[39;00m \u001b[38;5;21mwrapped\u001b[39m(\u001b[38;5;28mself\u001b[39m, X, \u001b[38;5;241m*\u001b[39margs, \u001b[38;5;241m*\u001b[39m\u001b[38;5;241m*\u001b[39mkwargs):\n\u001b[0;32m--> 140\u001b[0m     data_to_wrap \u001b[38;5;241m=\u001b[39m f(\u001b[38;5;28mself\u001b[39m, X, \u001b[38;5;241m*\u001b[39margs, \u001b[38;5;241m*\u001b[39m\u001b[38;5;241m*\u001b[39mkwargs)\n\u001b[1;32m    141\u001b[0m     \u001b[38;5;28;01mif\u001b[39;00m \u001b[38;5;28misinstance\u001b[39m(data_to_wrap, \u001b[38;5;28mtuple\u001b[39m):\n\u001b[1;32m    142\u001b[0m         \u001b[38;5;66;03m# only wrap the first output for cross decomposition\u001b[39;00m\n\u001b[1;32m    143\u001b[0m         \u001b[38;5;28;01mreturn\u001b[39;00m (\n\u001b[1;32m    144\u001b[0m             _wrap_data_with_container(method, data_to_wrap[\u001b[38;5;241m0\u001b[39m], X, \u001b[38;5;28mself\u001b[39m),\n\u001b[1;32m    145\u001b[0m             \u001b[38;5;241m*\u001b[39mdata_to_wrap[\u001b[38;5;241m1\u001b[39m:],\n\u001b[1;32m    146\u001b[0m         )\n",
      "File \u001b[0;32m~/miniconda3/envs/torchenv/lib/python3.11/site-packages/sklearn/decomposition/_base.py:123\u001b[0m, in \u001b[0;36m_BasePCA.transform\u001b[0;34m(self, X)\u001b[0m\n\u001b[1;32m    121\u001b[0m \u001b[38;5;28;01mif\u001b[39;00m \u001b[38;5;28mself\u001b[39m\u001b[38;5;241m.\u001b[39mmean_ \u001b[38;5;129;01mis\u001b[39;00m \u001b[38;5;129;01mnot\u001b[39;00m \u001b[38;5;28;01mNone\u001b[39;00m:\n\u001b[1;32m    122\u001b[0m     X \u001b[38;5;241m=\u001b[39m X \u001b[38;5;241m-\u001b[39m \u001b[38;5;28mself\u001b[39m\u001b[38;5;241m.\u001b[39mmean_\n\u001b[0;32m--> 123\u001b[0m X_transformed \u001b[38;5;241m=\u001b[39m np\u001b[38;5;241m.\u001b[39mdot(X, \u001b[38;5;28mself\u001b[39m\u001b[38;5;241m.\u001b[39mcomponents_\u001b[38;5;241m.\u001b[39mT)\n\u001b[1;32m    124\u001b[0m \u001b[38;5;28;01mif\u001b[39;00m \u001b[38;5;28mself\u001b[39m\u001b[38;5;241m.\u001b[39mwhiten:\n\u001b[1;32m    125\u001b[0m     X_transformed \u001b[38;5;241m/\u001b[39m\u001b[38;5;241m=\u001b[39m np\u001b[38;5;241m.\u001b[39msqrt(\u001b[38;5;28mself\u001b[39m\u001b[38;5;241m.\u001b[39mexplained_variance_)\n",
      "\u001b[0;31mKeyboardInterrupt\u001b[0m: "
     ]
    }
   ],
   "source": [
    "posttraining.run_suite(modelname, dataname, configname, simops, redo)"
   ]
  },
  {
   "cell_type": "code",
   "execution_count": 10,
   "id": "7b792d5e",
   "metadata": {},
   "outputs": [
    {
     "data": {
      "text/plain": [
       "'/Users/dhocker/projects/kind_cl/dynamics/analysis/block.cfg'"
      ]
     },
     "execution_count": 10,
     "metadata": {},
     "output_type": "execute_result"
    }
   ],
   "source": [
    "configname"
   ]
  },
  {
   "cell_type": "code",
   "execution_count": null,
   "id": "d5b2eb12",
   "metadata": {},
   "outputs": [],
   "source": []
  }
 ],
 "metadata": {
  "kernelspec": {
   "display_name": "torchenv",
   "language": "python",
   "name": "torchenv"
  },
  "language_info": {
   "codemirror_mode": {
    "name": "ipython",
    "version": 3
   },
   "file_extension": ".py",
   "mimetype": "text/x-python",
   "name": "python",
   "nbconvert_exporter": "python",
   "pygments_lexer": "ipython3",
   "version": "3.11.6"
  }
 },
 "nbformat": 4,
 "nbformat_minor": 5
}
