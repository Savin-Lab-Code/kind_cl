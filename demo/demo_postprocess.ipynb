{
 "cells": [
  {
   "cell_type": "code",
   "execution_count": 1,
   "id": "cb3707e1",
   "metadata": {},
   "outputs": [],
   "source": [
    "# will run the entire postprocessing suite\n",
    "\n",
    "import pickle\n",
    "import json\n",
    "from dynamics.process.rnn import wt_protocols\n",
    "from dynamics.process.rnn import parse\n",
    "from dynamics.analysis import KEmin, flowfields, posttraining\n",
    "from dynamics.utils import utils\n",
    "import sys\n",
    "\n",
    "#define some things for a given RNN to load data\n",
    "\n",
    "num = 33  # RNN number\n",
    "s_idx = 0  # CL type (0 = kind + shaping, 1 = shaping, 2 = no shaping)\n",
    "tphase = 5 # phase of training (6:freeze block, 5:block, 4:catch, 3:nocatch, 2:pred, 1:hard kind, 0 simple kind:)\n",
    "idx = 10 # idx within phase\n",
    "epoch = 'wait'  # epoch within trial to handle dynamics. 'wait','start','iti'\n",
    "\n",
    "workdir='/Users/dhocker/projects/kind_cl/'\n",
    "dbase = '/Users/dhocker/projects/dynamics/results/20231003/'\n",
    "\n",
    "%load_ext autoreload\n",
    "%autoreload 2\n"
   ]
  },
  {
   "cell_type": "code",
   "execution_count": 4,
   "id": "473dcf24",
   "metadata": {},
   "outputs": [],
   "source": [
    "\n",
    "# options for the postprocessing\n",
    "simops = {}\n",
    "simops['num'] = num\n",
    "simops['s_idx'] = s_idx\n",
    "simops['t_idx'] = tphase\n",
    "simops['epoch'] = epoch\n",
    "simops['simtype'] = 'task'\n",
    "\n",
    "#get filenames for finding which things to load\n",
    "d = utils.getfnames(num, s_idx, tphase, idx, dbase=dbase,\n",
    "              reg_idx=0, block='mixed', epoch='wait')\n",
    "\n",
    "modelname = d['model']\n",
    "dataname = d['dat_1k']\n",
    "configname = workdir + 'dynamics/analysis/block.cfg'\n",
    "\n",
    "# where things get saved. put in test to not overwrite\n",
    "simops['basedirectory'] = dbase + 'test/' + 'dynamics/analysis/'\n",
    "simops['savedir_KE'] = dbase + 'test/'+ 'dynamics/KEmin_constrained/'\n",
    "simops['savedir_flows'] = dbase + 'test/' + 'dynamics/flows/'\n",
    "simops['savedir_allbeh'] = dbase + 'test/'\n",
    "\n",
    "# booleans to handle resimulation of each piece. will overwrite existing data if true. \n",
    "# so. put everything in test\n",
    "\n",
    "redo = {'sim': False, 'KE': True, 'doKE':True, 'flow': True, 'beh2mat': True, 'allbeh':True}\n"
   ]
  },
  {
   "cell_type": "code",
   "execution_count": 5,
   "id": "4f1a6814",
   "metadata": {},
   "outputs": [
    {
     "name": "stdout",
     "output_type": "stream",
     "text": [
      "skipping simulation. already peformed\n",
      "running KE minimization: 0\n",
      "loading/simulating task data\n",
      "preprocessing data\n"
     ]
    },
    {
     "ename": "KeyError",
     "evalue": "'args'",
     "output_type": "error",
     "traceback": [
      "\u001b[0;31m---------------------------------------------------------------------------\u001b[0m",
      "\u001b[0;31mKeyError\u001b[0m                                  Traceback (most recent call last)",
      "Cell \u001b[0;32mIn[5], line 1\u001b[0m\n\u001b[0;32m----> 1\u001b[0m posttraining\u001b[38;5;241m.\u001b[39mrun_suite(modelname, dataname, configname, simops, redo)\n",
      "File \u001b[0;32m~/projects/dynamics/dynamics/analysis/posttraining.py:80\u001b[0m, in \u001b[0;36mrun_suite\u001b[0;34m(modelname, dataname, configname, simops, redo)\u001b[0m\n\u001b[1;32m     78\u001b[0m redomask \u001b[38;5;241m=\u001b[39m redomask \u001b[38;5;129;01mand\u001b[39;00m redo[\u001b[38;5;124m'\u001b[39m\u001b[38;5;124mdoKE\u001b[39m\u001b[38;5;124m'\u001b[39m]\n\u001b[1;32m     79\u001b[0m \u001b[38;5;28;01mif\u001b[39;00m redomask:\n\u001b[0;32m---> 80\u001b[0m     crds, outputs \u001b[38;5;241m=\u001b[39m KEmin\u001b[38;5;241m.\u001b[39mKEmin(modelname, dataname, KEops, D\u001b[38;5;241m=\u001b[39mDuse)\n\u001b[1;32m     81\u001b[0m     pickle\u001b[38;5;241m.\u001b[39mdump({\u001b[38;5;124m'\u001b[39m\u001b[38;5;124mcrds\u001b[39m\u001b[38;5;124m'\u001b[39m: crds, \u001b[38;5;124m'\u001b[39m\u001b[38;5;124moutput\u001b[39m\u001b[38;5;124m'\u001b[39m: outputs}, \u001b[38;5;28mopen\u001b[39m(savename_kemin0, \u001b[38;5;124m'\u001b[39m\u001b[38;5;124mwb\u001b[39m\u001b[38;5;124m'\u001b[39m))\n\u001b[1;32m     82\u001b[0m     parse\u001b[38;5;241m.\u001b[39mKEconvert2matlab(savename_kemin0, dosave\u001b[38;5;241m=\u001b[39m\u001b[38;5;28;01mTrue\u001b[39;00m)\n",
      "File \u001b[0;32m~/projects/dynamics/dynamics/analysis/KEmin.py:139\u001b[0m, in \u001b[0;36mKEmin\u001b[0;34m(modelname, dataname, KEops, D)\u001b[0m\n\u001b[1;32m    135\u001b[0m     dat \u001b[38;5;241m=\u001b[39m wt_protocols\u001b[38;5;241m.\u001b[39msim_task(modelname, configname\u001b[38;5;241m=\u001b[39mtphase_dict[tphase], simtype\u001b[38;5;241m=\u001b[39mtaskdict[tphase])\n\u001b[1;32m    137\u001b[0m \u001b[38;5;28mprint\u001b[39m(\u001b[38;5;124m'\u001b[39m\u001b[38;5;124mpreprocessing data\u001b[39m\u001b[38;5;124m'\u001b[39m)\n\u001b[0;32m--> 139\u001b[0m rd \u001b[38;5;241m=\u001b[39m dyn\u001b[38;5;241m.\u001b[39mdynamics_preprocess_suite(modelname, dat, simtype\u001b[38;5;241m=\u001b[39mtaskdict[tphase], dynops\u001b[38;5;241m=\u001b[39mdynops)\n\u001b[1;32m    141\u001b[0m \u001b[38;5;28;01mif\u001b[39;00m D \u001b[38;5;129;01mis\u001b[39;00m \u001b[38;5;28;01mNone\u001b[39;00m:\n\u001b[1;32m    142\u001b[0m     D \u001b[38;5;241m=\u001b[39m rd[\u001b[38;5;124m'\u001b[39m\u001b[38;5;124mD\u001b[39m\u001b[38;5;124m'\u001b[39m][reg_idx]  \u001b[38;5;66;03m# the dimensionality of the PC space\u001b[39;00m\n",
      "File \u001b[0;32m~/projects/dynamics/dynamics/analysis/dynamics_analysis.py:44\u001b[0m, in \u001b[0;36mdynamics_preprocess_suite\u001b[0;34m(modelname, rdict, simtype, dynops)\u001b[0m\n\u001b[1;32m     42\u001b[0m     ops[\u001b[38;5;124m'\u001b[39m\u001b[38;5;124mns\u001b[39m\u001b[38;5;124m'\u001b[39m] \u001b[38;5;241m=\u001b[39m \u001b[38;5;241m1000\u001b[39m\n\u001b[1;32m     43\u001b[0m \u001b[38;5;28;01melse\u001b[39;00m:\n\u001b[0;32m---> 44\u001b[0m     ops, _ \u001b[38;5;241m=\u001b[39m utils\u001b[38;5;241m.\u001b[39mparse_configs(configname)\n\u001b[1;32m     46\u001b[0m device \u001b[38;5;241m=\u001b[39m torch\u001b[38;5;241m.\u001b[39mdevice(\u001b[38;5;124m'\u001b[39m\u001b[38;5;124mcpu\u001b[39m\u001b[38;5;124m'\u001b[39m)\n\u001b[1;32m     48\u001b[0m \u001b[38;5;66;03m# load model\u001b[39;00m\n",
      "File \u001b[0;32m~/projects/dynamics/dynamics/utils/utils.py:324\u001b[0m, in \u001b[0;36mparse_configs\u001b[0;34m(fname, uniquedict, ops)\u001b[0m\n\u001b[1;32m    322\u001b[0m uniqueops \u001b[38;5;241m=\u001b[39m {}\n\u001b[1;32m    323\u001b[0m \u001b[38;5;28;01mfor\u001b[39;00m k \u001b[38;5;129;01min\u001b[39;00m uniquedict:\n\u001b[0;32m--> 324\u001b[0m     \u001b[38;5;28;01mif\u001b[39;00m k \u001b[38;5;129;01mnot\u001b[39;00m \u001b[38;5;129;01min\u001b[39;00m cfg[\u001b[38;5;124m'\u001b[39m\u001b[38;5;124margs\u001b[39m\u001b[38;5;124m'\u001b[39m]:\n\u001b[1;32m    325\u001b[0m         \u001b[38;5;28mprint\u001b[39m(\u001b[38;5;124m'\u001b[39m\u001b[38;5;124muniqueops: \u001b[39m\u001b[38;5;124m'\u001b[39m\u001b[38;5;241m+\u001b[39mk \u001b[38;5;241m+\u001b[39m \u001b[38;5;124m'\u001b[39m\u001b[38;5;124m not defined in config. using default\u001b[39m\u001b[38;5;124m'\u001b[39m)\n\u001b[1;32m    326\u001b[0m         \u001b[38;5;28;01mif\u001b[39;00m k \u001b[38;5;241m==\u001b[39m \u001b[38;5;124m'\u001b[39m\u001b[38;5;124madam_fname\u001b[39m\u001b[38;5;124m'\u001b[39m:\n",
      "File \u001b[0;32m~/miniconda3/envs/torchenv/lib/python3.11/configparser.py:979\u001b[0m, in \u001b[0;36mRawConfigParser.__getitem__\u001b[0;34m(self, key)\u001b[0m\n\u001b[1;32m    977\u001b[0m \u001b[38;5;28;01mdef\u001b[39;00m \u001b[38;5;21m__getitem__\u001b[39m(\u001b[38;5;28mself\u001b[39m, key):\n\u001b[1;32m    978\u001b[0m     \u001b[38;5;28;01mif\u001b[39;00m key \u001b[38;5;241m!=\u001b[39m \u001b[38;5;28mself\u001b[39m\u001b[38;5;241m.\u001b[39mdefault_section \u001b[38;5;129;01mand\u001b[39;00m \u001b[38;5;129;01mnot\u001b[39;00m \u001b[38;5;28mself\u001b[39m\u001b[38;5;241m.\u001b[39mhas_section(key):\n\u001b[0;32m--> 979\u001b[0m         \u001b[38;5;28;01mraise\u001b[39;00m \u001b[38;5;167;01mKeyError\u001b[39;00m(key)\n\u001b[1;32m    980\u001b[0m     \u001b[38;5;28;01mreturn\u001b[39;00m \u001b[38;5;28mself\u001b[39m\u001b[38;5;241m.\u001b[39m_proxies[key]\n",
      "\u001b[0;31mKeyError\u001b[0m: 'args'"
     ]
    }
   ],
   "source": [
    "posttraining.run_suite(modelname, dataname, configname, simops, redo)"
   ]
  },
  {
   "cell_type": "code",
   "execution_count": 10,
   "id": "7b792d5e",
   "metadata": {},
   "outputs": [
    {
     "data": {
      "text/plain": [
       "'/Users/dhocker/projects/kind_cl/dynamics/analysis/block.cfg'"
      ]
     },
     "execution_count": 10,
     "metadata": {},
     "output_type": "execute_result"
    }
   ],
   "source": [
    "configname"
   ]
  },
  {
   "cell_type": "code",
   "execution_count": null,
   "id": "d5b2eb12",
   "metadata": {},
   "outputs": [],
   "source": []
  }
 ],
 "metadata": {
  "kernelspec": {
   "display_name": "torchenv",
   "language": "python",
   "name": "torchenv"
  },
  "language_info": {
   "codemirror_mode": {
    "name": "ipython",
    "version": 3
   },
   "file_extension": ".py",
   "mimetype": "text/x-python",
   "name": "python",
   "nbconvert_exporter": "python",
   "pygments_lexer": "ipython3",
   "version": "3.11.6"
  }
 },
 "nbformat": 4,
 "nbformat_minor": 5
}
