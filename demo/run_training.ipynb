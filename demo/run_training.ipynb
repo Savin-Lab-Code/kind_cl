{
 "cells": [
  {
   "cell_type": "code",
   "execution_count": 13,
   "id": "b4cacfaf",
   "metadata": {},
   "outputs": [],
   "source": [
    "#run script to train with kindergarten cl\n",
    "\n",
    "from dynamics.process.rnn import fulltrain\n",
    "\n",
    "#location of repo\n",
    "workdir='~/projects/kind_cl/'\n",
    "\n",
    "#location of config file\n",
    "cfgname='/Users/dhocker/projects/kind_cl/demo/33.cfg'\n",
    "\n"
   ]
  },
  {
   "cell_type": "code",
   "execution_count": 14,
   "id": "7c8ed58a",
   "metadata": {},
   "outputs": [
    {
     "name": "stdout",
     "output_type": "stream",
     "text": [
      "ops\n",
      "{'gamma': 0.95, 'alpha': 0.0001, 'lam': 2.5, 'pcatch': 0.2, 'ctmax': 500, 'blocklength': 40, 'freeze': False, 'state_resetfreq': 160, 'p_statereset': 1.0, 'prog_stop': False, 'envtype': 'wt_env_wITI_batchedreward', 'iti_determ': 1, 'iti_random': 20, 'iti_type': 'uniform', 'pblock': 0.5, 'trainonly': True, 'tracktheta': False, 'trackstate': False, 'plot': False, 'device': 'cpu', 'Vvec': [5, 10, 20, 40, 80], 'Vvec_low': [5, 10, 20], 'Vvec_high': [20, 40, 80], 'Ract': -2.0, 'w': -0.05, 'win': 20, 'R_vio': -1.0, 'seed': 101, 'ns': 10000, 'T': 30, 'dt': 0.05, 'blocklen': 40, 'useblocks': True, 'displevel': 4, 'inputcase': 11, 'batchsize': 1, 'snr': [0.0, 0.0, 0.0, 0.0], 'snr_hidden': 0.0, 'p_vio': 0.0, 'T_vio': 0.1, 'rnntype': 'LSTM', 'dropout': 0.0, 'modeltype': 'RNNModel_multiregion_2allt', 'costtype': 'loss_actorcritic_regularized_9', 'ismultiregion': True, 'rank': [None, None], 'kindergarten_prediction': True, 'nocatch_force': False, 'alpha_rho': 0.3, 'alpha_rho_av': 0.05, 'lambda_policy': 1.0, 'lambda_value': 0.0005, 'lambda_entropy': 0.05, 'lambda_pred': 0.5, 'anneal_type': 'none', 'gamma_kindergarten': 0.0001, 'lambda_supervised': 10.0, 'seed_kindergarten': 0, 'lossinds_kindergarten': [0, 1, 2], 'batchsize_kindergarten': 1000, 'stages_kindergarten': ['simple', 'intermediate'], 'nepoch_kindergarten': 10000, 'stopargs_int_kindergarten': 0.001, 'base_epoch_kind': 1000, 'nsteps_simple_kindergarten': 20, 'nsteps_train_simple_kindergarten': 20, 'nsteps_list_kindergarten': [20, 25], 'nsteps_list_int': array([31, 90, 83, 95, 29, 97, 60, 24, 83, 60]), 'highvartrials_kind': False, 'nsteps_train_int': 652, 'stoparg_simple': 30.0, 'stoptype_simple': 'converge', 'pred_stoparg': 0.2, 'pred_stoptype': 'lowlim', 'beta_pred_kindpred': 0.5, 'beta_supervised_kindpred': 1.0, 'lossinds_supervised_kindpred': [0, 1, 2], 'batchsize_pred': 20, 'ntrials_pred': 400, 'gamma_pred': 0.005, 'nepoch_pred': 10000, 'base_epoch_pred': 20, 'pred_updatefun': 'update_trialstart', 'kindergarten_d2m': False, 'd2m_p': 0.5, 'lambda_d2m': 0.0, 'beta_d2m_kindd2m': 1.0, 'base_epoch_d2m': 100, 'gamma_d2m': 0.001, 'beta_pred_d2m': 0.0, 'beta_supervised_kindd2m': 0.0, 'batchsize_d2m': 1000, 'tmin_d2m': 0.1, 'tmax_d2m': 5, 'nepoch_d2m': 10000, 'd2m_updatefun': 'update_both', 'lossinds_supervised_kindd2m': [1, 2], 'd2m_stoptype': 'lowlim', 'd2m_stoparg': 0.01, 'pstim_prop': 0.4, 'pstim_amp': 1.0, 'nn': [256, 256]}\n",
      "uniqueops\n",
      "{'netseed': 33, 'device': 'cpu', 'savedir': '/results/', 'modelname': '', 'nn': [256, 256], 'bias': 0.0, 'nrounds1': 10, 'nrounds2': 10, 'nrounds3': 10, 'nrounds1_s': 0, 'nrounds2_s': 0, 'nrounds3_s': 0, 'usekindergarten': True, 'roundstart_pred': 0, 'adam_fname': ''}\n",
      "choosing model type\n",
      "moving model to device\n",
      "saving initial network\n"
     ]
    },
    {
     "ename": "RuntimeError",
     "evalue": "Parent directory /results does not exist.",
     "output_type": "error",
     "traceback": [
      "\u001b[0;31m---------------------------------------------------------------------------\u001b[0m",
      "\u001b[0;31mRuntimeError\u001b[0m                              Traceback (most recent call last)",
      "Cell \u001b[0;32mIn[14], line 1\u001b[0m\n\u001b[0;32m----> 1\u001b[0m fulltrain\u001b[38;5;241m.\u001b[39mfulltrain_run(cfgname)\n",
      "File \u001b[0;32m~/projects/dynamics/dynamics/process/rnn/fulltrain.py:51\u001b[0m, in \u001b[0;36mfulltrain_run\u001b[0;34m(fname)\u001b[0m\n\u001b[1;32m     49\u001b[0m     \u001b[38;5;28mprint\u001b[39m(\u001b[38;5;124m'\u001b[39m\u001b[38;5;124msaving initial network\u001b[39m\u001b[38;5;124m'\u001b[39m)\n\u001b[1;32m     50\u001b[0m     savename \u001b[38;5;241m=\u001b[39m savedir \u001b[38;5;241m+\u001b[39m \u001b[38;5;124m'\u001b[39m\u001b[38;5;124mrnn_init_\u001b[39m\u001b[38;5;124m'\u001b[39m \u001b[38;5;241m+\u001b[39m \u001b[38;5;28mstr\u001b[39m(netseed)\n\u001b[0;32m---> 51\u001b[0m     torch\u001b[38;5;241m.\u001b[39msave(net\u001b[38;5;241m.\u001b[39mstate_dict(), savename \u001b[38;5;241m+\u001b[39m \u001b[38;5;124m'\u001b[39m\u001b[38;5;124m.model\u001b[39m\u001b[38;5;124m'\u001b[39m)  \u001b[38;5;66;03m# save model\u001b[39;00m\n\u001b[1;32m     53\u001b[0m \u001b[38;5;66;03m# do kindergarten training\u001b[39;00m\n\u001b[1;32m     54\u001b[0m \u001b[38;5;28mprint\u001b[39m(\u001b[38;5;124m'\u001b[39m\u001b[38;5;124mdeciding on pre-processing steps\u001b[39m\u001b[38;5;124m'\u001b[39m)\n",
      "File \u001b[0;32m~/miniconda3/envs/torchenv/lib/python3.11/site-packages/torch/serialization.py:440\u001b[0m, in \u001b[0;36msave\u001b[0;34m(obj, f, pickle_module, pickle_protocol, _use_new_zipfile_serialization)\u001b[0m\n\u001b[1;32m    437\u001b[0m _check_save_filelike(f)\n\u001b[1;32m    439\u001b[0m \u001b[38;5;28;01mif\u001b[39;00m _use_new_zipfile_serialization:\n\u001b[0;32m--> 440\u001b[0m     \u001b[38;5;28;01mwith\u001b[39;00m _open_zipfile_writer(f) \u001b[38;5;28;01mas\u001b[39;00m opened_zipfile:\n\u001b[1;32m    441\u001b[0m         _save(obj, opened_zipfile, pickle_module, pickle_protocol)\n\u001b[1;32m    442\u001b[0m         \u001b[38;5;28;01mreturn\u001b[39;00m\n",
      "File \u001b[0;32m~/miniconda3/envs/torchenv/lib/python3.11/site-packages/torch/serialization.py:315\u001b[0m, in \u001b[0;36m_open_zipfile_writer\u001b[0;34m(name_or_buffer)\u001b[0m\n\u001b[1;32m    313\u001b[0m \u001b[38;5;28;01melse\u001b[39;00m:\n\u001b[1;32m    314\u001b[0m     container \u001b[38;5;241m=\u001b[39m _open_zipfile_writer_buffer\n\u001b[0;32m--> 315\u001b[0m \u001b[38;5;28;01mreturn\u001b[39;00m container(name_or_buffer)\n",
      "File \u001b[0;32m~/miniconda3/envs/torchenv/lib/python3.11/site-packages/torch/serialization.py:288\u001b[0m, in \u001b[0;36m_open_zipfile_writer_file.__init__\u001b[0;34m(self, name)\u001b[0m\n\u001b[1;32m    287\u001b[0m \u001b[38;5;28;01mdef\u001b[39;00m \u001b[38;5;21m__init__\u001b[39m(\u001b[38;5;28mself\u001b[39m, name) \u001b[38;5;241m-\u001b[39m\u001b[38;5;241m>\u001b[39m \u001b[38;5;28;01mNone\u001b[39;00m:\n\u001b[0;32m--> 288\u001b[0m     \u001b[38;5;28msuper\u001b[39m()\u001b[38;5;241m.\u001b[39m\u001b[38;5;21m__init__\u001b[39m(torch\u001b[38;5;241m.\u001b[39m_C\u001b[38;5;241m.\u001b[39mPyTorchFileWriter(\u001b[38;5;28mstr\u001b[39m(name)))\n",
      "\u001b[0;31mRuntimeError\u001b[0m: Parent directory /results does not exist."
     ]
    }
   ],
   "source": [
    "fulltrain.fulltrain_run(cfgname)"
   ]
  },
  {
   "cell_type": "code",
   "execution_count": 11,
   "id": "3e2f5cea",
   "metadata": {},
   "outputs": [
    {
     "data": {
      "text/plain": [
       "[]"
      ]
     },
     "execution_count": 11,
     "metadata": {},
     "output_type": "execute_result"
    }
   ],
   "source": [
    "\n",
    "cfg = configparser.ConfigParser()\n",
    "cfg.optionxform = lambda option: option  # override default behavior to make keys lc\n",
    "cfg.read(cfgname)"
   ]
  },
  {
   "cell_type": "code",
   "execution_count": 12,
   "id": "c4f70a07",
   "metadata": {},
   "outputs": [
    {
     "data": {
      "text/plain": [
       "'/Users/home/dhocker/projects/kind_cl/demo/33.cfg'"
      ]
     },
     "execution_count": 12,
     "metadata": {},
     "output_type": "execute_result"
    }
   ],
   "source": [
    "cfgname"
   ]
  },
  {
   "cell_type": "code",
   "execution_count": null,
   "id": "10323b44",
   "metadata": {},
   "outputs": [],
   "source": []
  }
 ],
 "metadata": {
  "kernelspec": {
   "display_name": "torchenv",
   "language": "python",
   "name": "torchenv"
  },
  "language_info": {
   "codemirror_mode": {
    "name": "ipython",
    "version": 3
   },
   "file_extension": ".py",
   "mimetype": "text/x-python",
   "name": "python",
   "nbconvert_exporter": "python",
   "pygments_lexer": "ipython3",
   "version": "3.11.6"
  }
 },
 "nbformat": 4,
 "nbformat_minor": 5
}
