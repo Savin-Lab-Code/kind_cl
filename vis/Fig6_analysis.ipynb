{
 "cells": [
  {
   "cell_type": "code",
   "execution_count": 3,
   "id": "4bf96d78",
   "metadata": {},
   "outputs": [],
   "source": [
    "# will calculate necessary boutique flow fields for main figure, and incongruent trial block probabilities,\n",
    "import pickle\n",
    "import json\n",
    "from dynamics.process.rnn import wt_protocols\n",
    "from dynamics.process.rnn import parse\n",
    "from dynamics.analysis import KEmin, flowfields, posttraining\n",
    "import dynamics.analysis.dynamics_analysis as dyn\n",
    "import numpy as np\n",
    "from scipy.special import softmax\n",
    "import matplotlib.pyplot as plt\n",
    "\n",
    "%load_ext autoreload\n",
    "%autoreload 2"
   ]
  },
  {
   "cell_type": "code",
   "execution_count": 4,
   "id": "567b944c",
   "metadata": {},
   "outputs": [],
   "source": [
    "num = 33\n",
    "stype = 'full_cl/'\n",
    "\n",
    "\n",
    "basedirectory = '/home/dh148/projects/dynamics/dynamics/analysis/'\n",
    "savedir_flows = '/scratch/dh148/dynamics/results/rnn/ac/20231003/'+stype+'/dynamics/flows/'\n",
    "datadir = '/scratch/dh148/dynamics/results/rnn/ac/20231003/'+stype+str(num)+'/'\n",
    "savedir_KE = '/scratch/dh148/dynamics/results/rnn/ac/20231003/'+stype+'/dynamics/KEmin_constrained/'\n",
    "\n",
    "modelname = datadir + 'rnn_curric_'+str(num)+'_block_10.model'\n",
    "basename = modelname.split('/')[-1].split('.')[0]\n",
    "loadname = modelname.split('.')[0] + '_1k.json'  # shit, wanted the 1k data\n",
    "savedir = modelname.split('rnn_curric')[0]\n",
    "savename = savedir + 'ratTrial_' + basename + '_1k.mat'\n",
    "dataname = datadir + basename + '_1k.json'\n",
    "\n",
    "\n",
    "reg_idx = 0\n",
    "s_idx = 0\n",
    "t_idx = 5\n",
    "epoch = 'wait'\n"
   ]
  },
  {
   "cell_type": "code",
   "execution_count": null,
   "id": "dadc9a7e",
   "metadata": {},
   "outputs": [],
   "source": [
    "# Figure 6B data; OFC flow field\n",
    "\n",
    "num = 33\n",
    "stype = 'full_cl/'\n",
    "\n",
    "\n",
    "basedirectory = '/home/dh148/projects/dynamics/dynamics/analysis/'\n",
    "savedir_flows = '/scratch/dh148/dynamics/results/rnn/ac/20231003/'+stype+'/dynamics/flows/'\n",
    "datadir = '/scratch/dh148/dynamics/results/rnn/ac/20231003/'+stype+str(num)+'/'\n",
    "savedir_KE = '/scratch/dh148/dynamics/results/rnn/ac/20231003/'+stype+'/dynamics/KEmin_constrained/'\n",
    "\n",
    "modelname = datadir + 'rnn_curric_'+str(num)+'_block_10.model'\n",
    "basename = modelname.split('/')[-1].split('.')[0]\n",
    "loadname = modelname.split('.')[0] + '_1k.json'  # shit, wanted the 1k data\n",
    "savedir = modelname.split('rnn_curric')[0]\n",
    "savename = savedir + 'ratTrial_' + basename + '_1k.mat'\n",
    "dataname = datadir + basename + '_1k.json'\n",
    "\n",
    "\n",
    "reg_idx = 0\n",
    "s_idx = 0\n",
    "t_idx = 5\n",
    "epoch = 'wait'\n",
    "\n",
    "for blocktype in ['mixed','high','low']:\n",
    "#blocktype = 'mixed'\n",
    "    useKEbounds = False\n",
    "\n",
    "\n",
    "\n",
    "    #parse.generate_rattrial_rnn(loadname=loadname, savename=savename)\n",
    "    #print('done')\n",
    "\n",
    "\n",
    "    kemin_name = savedir_KE + 'kemin_' + basename + 'reg_' + str(reg_idx) + '_' + blocktype + '_' + epoch + '.dat'\n",
    "\n",
    "\n",
    "    fo = {'reg_idx': reg_idx, 's_idx': s_idx, 'tphase': t_idx, 'epoch': epoch, 'blocktype': blocktype,\n",
    "          'verbose': True, 'useKEbounds': useKEbounds, 'basedirectory': basedirectory,\n",
    "          'savedir': savedir_flows}  # flowops dictionary\n",
    "\n",
    "    flowname = (savedir_flows + 'flowfields_' + basename + 'reg_' +\n",
    "                str(reg_idx)+'_' + blocktype + '_' + epoch + '_boutique.mat')\n",
    "\n",
    "    print(fo)\n",
    "    print(flowname)\n",
    "    print(dataname)\n",
    "    print(kemin_name)\n",
    "\n",
    "    D = 2\n",
    "\n",
    "\n",
    "    test = flowfields.genflowfields(modelname, dataname, kemin_name, flowname, fo, D=D, block_idx = None)\n",
    "\n",
    "\n",
    "\n"
   ]
  },
  {
   "cell_type": "code",
   "execution_count": 3,
   "id": "3b28bd6e",
   "metadata": {},
   "outputs": [
    {
     "name": "stdout",
     "output_type": "stream",
     "text": [
      "0\n",
      "loading/simulating task data\n",
      "preprocessing data\n",
      "debug 46\n",
      "/home/dh148/projects/dynamics/dynamics/analysis/block.cfg\n",
      "uniqueops: adam_fname not defined in config. using default\n",
      "postprocessing simulation data for dynamics\n",
      "epoch iti\n",
      "building trial masks and getting conditional PSTHs\n",
      "in iti condpsth\n"
     ]
    },
    {
     "name": "stderr",
     "output_type": "stream",
     "text": [
      "/home/dh148/projects/dynamics/dynamics/process/rnn/parse_state.py:180: RuntimeWarning: Mean of empty slice\n",
      "  psth_ofc_h[m, :, :] = np.nanmean(psth_ofc_h_base, axis=0)\n",
      "/home/dh148/projects/dynamics/dynamics/process/rnn/parse_state.py:181: RuntimeWarning: Mean of empty slice\n",
      "  psth_ofc_c[m, :, :] = np.nanmean(psth_ofc_c_base, axis=0)\n",
      "/home/dh148/projects/dynamics/dynamics/process/rnn/parse_state.py:182: RuntimeWarning: Mean of empty slice\n",
      "  psth_str_h[m, :, :] = np.nanmean(psth_str_h_base, axis=0)\n",
      "/home/dh148/projects/dynamics/dynamics/process/rnn/parse_state.py:183: RuntimeWarning: Mean of empty slice\n",
      "  psth_str_c[m, :, :] = np.nanmean(psth_str_c_base, axis=0)\n",
      "/ext3/miniconda3/lib/python3.9/site-packages/numpy/lib/nanfunctions.py:1670: RuntimeWarning: Degrees of freedom <= 0 for slice.\n",
      "  var = nanvar(a, axis=axis, dtype=dtype, out=out, ddof=ddof,\n"
     ]
    },
    {
     "name": "stdout",
     "output_type": "stream",
     "text": [
      "Dim\n",
      "3\n",
      "3\n",
      "choosing inputs\n",
      "using blocktype: mixed. trial is 9\n",
      "[ 0.          0.         -2.04999995  1.        ]\n",
      "parsing regions-specific stuff\n",
      "calculating pc_means\n",
      "using PC activity to define bounds\n",
      "running dynamics\n",
      "formatting samples\n",
      "calculating mesh\n",
      "custom res for dynamics\n",
      "custom res for dynamics\n",
      "custom res for dynamics\n",
      "[50, 50, 50]\n",
      "saving: /scratch/dh148/dynamics/results/rnn/ac/20231003/full_cl//dynamics/flows/flowfields_rnn_curric_33_block_10reg_0_mixed_iti_boutique_Rm2_3d.mat\n"
     ]
    },
    {
     "name": "stderr",
     "output_type": "stream",
     "text": [
      "/ext3/miniconda3/lib/python3.9/site-packages/scipy/io/matlab/mio5.py:493: VisibleDeprecationWarning: Creating an ndarray from ragged nested sequences (which is a list-or-tuple of lists-or-tuples-or ndarrays with different lengths or shapes) is deprecated. If you meant to do this, you must specify 'dtype=object' when creating the ndarray.\n",
      "  narr = np.asanyarray(source)\n"
     ]
    },
    {
     "name": "stdout",
     "output_type": "stream",
     "text": [
      "done\n",
      "1\n",
      "loading/simulating task data\n",
      "preprocessing data\n",
      "debug 46\n",
      "/home/dh148/projects/dynamics/dynamics/analysis/block.cfg\n",
      "uniqueops: adam_fname not defined in config. using default\n",
      "postprocessing simulation data for dynamics\n",
      "epoch iti\n",
      "building trial masks and getting conditional PSTHs\n",
      "in iti condpsth\n"
     ]
    },
    {
     "name": "stderr",
     "output_type": "stream",
     "text": [
      "/home/dh148/projects/dynamics/dynamics/process/rnn/parse_state.py:180: RuntimeWarning: Mean of empty slice\n",
      "  psth_ofc_h[m, :, :] = np.nanmean(psth_ofc_h_base, axis=0)\n",
      "/home/dh148/projects/dynamics/dynamics/process/rnn/parse_state.py:181: RuntimeWarning: Mean of empty slice\n",
      "  psth_ofc_c[m, :, :] = np.nanmean(psth_ofc_c_base, axis=0)\n",
      "/home/dh148/projects/dynamics/dynamics/process/rnn/parse_state.py:182: RuntimeWarning: Mean of empty slice\n",
      "  psth_str_h[m, :, :] = np.nanmean(psth_str_h_base, axis=0)\n",
      "/home/dh148/projects/dynamics/dynamics/process/rnn/parse_state.py:183: RuntimeWarning: Mean of empty slice\n",
      "  psth_str_c[m, :, :] = np.nanmean(psth_str_c_base, axis=0)\n",
      "/ext3/miniconda3/lib/python3.9/site-packages/numpy/lib/nanfunctions.py:1670: RuntimeWarning: Degrees of freedom <= 0 for slice.\n",
      "  var = nanvar(a, axis=axis, dtype=dtype, out=out, ddof=ddof,\n"
     ]
    },
    {
     "name": "stdout",
     "output_type": "stream",
     "text": [
      "Dim\n",
      "3\n",
      "3\n",
      "choosing inputs\n",
      "using blocktype: mixed. trial is 18\n",
      "[ 0.          0.         -1.04999995  1.        ]\n",
      "parsing regions-specific stuff\n",
      "calculating pc_means\n",
      "using PC activity to define bounds\n",
      "running dynamics\n",
      "formatting samples\n",
      "calculating mesh\n",
      "custom res for dynamics\n",
      "custom res for dynamics\n",
      "custom res for dynamics\n",
      "[50, 50, 50]\n",
      "saving: /scratch/dh148/dynamics/results/rnn/ac/20231003/full_cl//dynamics/flows/flowfields_rnn_curric_33_block_10reg_0_mixed_iti_boutique_Rm1_3d.mat\n"
     ]
    },
    {
     "name": "stderr",
     "output_type": "stream",
     "text": [
      "/ext3/miniconda3/lib/python3.9/site-packages/scipy/io/matlab/mio5.py:493: VisibleDeprecationWarning: Creating an ndarray from ragged nested sequences (which is a list-or-tuple of lists-or-tuples-or ndarrays with different lengths or shapes) is deprecated. If you meant to do this, you must specify 'dtype=object' when creating the ndarray.\n",
      "  narr = np.asanyarray(source)\n"
     ]
    },
    {
     "name": "stdout",
     "output_type": "stream",
     "text": [
      "done\n",
      "2\n",
      "loading/simulating task data\n",
      "preprocessing data\n",
      "debug 46\n",
      "/home/dh148/projects/dynamics/dynamics/analysis/block.cfg\n",
      "uniqueops: adam_fname not defined in config. using default\n",
      "postprocessing simulation data for dynamics\n",
      "epoch iti\n",
      "building trial masks and getting conditional PSTHs\n",
      "in iti condpsth\n"
     ]
    },
    {
     "name": "stderr",
     "output_type": "stream",
     "text": [
      "/home/dh148/projects/dynamics/dynamics/process/rnn/parse_state.py:180: RuntimeWarning: Mean of empty slice\n",
      "  psth_ofc_h[m, :, :] = np.nanmean(psth_ofc_h_base, axis=0)\n",
      "/home/dh148/projects/dynamics/dynamics/process/rnn/parse_state.py:181: RuntimeWarning: Mean of empty slice\n",
      "  psth_ofc_c[m, :, :] = np.nanmean(psth_ofc_c_base, axis=0)\n",
      "/home/dh148/projects/dynamics/dynamics/process/rnn/parse_state.py:182: RuntimeWarning: Mean of empty slice\n",
      "  psth_str_h[m, :, :] = np.nanmean(psth_str_h_base, axis=0)\n",
      "/home/dh148/projects/dynamics/dynamics/process/rnn/parse_state.py:183: RuntimeWarning: Mean of empty slice\n",
      "  psth_str_c[m, :, :] = np.nanmean(psth_str_c_base, axis=0)\n",
      "/ext3/miniconda3/lib/python3.9/site-packages/numpy/lib/nanfunctions.py:1670: RuntimeWarning: Degrees of freedom <= 0 for slice.\n",
      "  var = nanvar(a, axis=axis, dtype=dtype, out=out, ddof=ddof,\n"
     ]
    },
    {
     "name": "stdout",
     "output_type": "stream",
     "text": [
      "Dim\n",
      "3\n",
      "3\n",
      "choosing inputs\n",
      "using blocktype: mixed. trial is 10\n",
      "[ 0.          0.         -0.55000001  1.        ]\n",
      "parsing regions-specific stuff\n",
      "calculating pc_means\n",
      "using PC activity to define bounds\n",
      "running dynamics\n",
      "formatting samples\n",
      "calculating mesh\n",
      "custom res for dynamics\n",
      "custom res for dynamics\n",
      "custom res for dynamics\n",
      "[50, 50, 50]\n",
      "[16, 12]\r"
     ]
    },
    {
     "name": "stderr",
     "output_type": "stream",
     "text": [
      "IOPub message rate exceeded.\n",
      "The notebook server will temporarily stop sending output\n",
      "to the client in order to avoid crashing it.\n",
      "To change this limit, set the config variable\n",
      "`--NotebookApp.iopub_msg_rate_limit`.\n",
      "\n",
      "Current values:\n",
      "NotebookApp.iopub_msg_rate_limit=1000.0 (msgs/sec)\n",
      "NotebookApp.rate_limit_window=3.0 (secs)\n",
      "\n"
     ]
    },
    {
     "name": "stdout",
     "output_type": "stream",
     "text": [
      "saving: /scratch/dh148/dynamics/results/rnn/ac/20231003/full_cl//dynamics/flows/flowfields_rnn_curric_33_block_10reg_0_mixed_iti_boutique_R10_3d.mat\n"
     ]
    },
    {
     "name": "stderr",
     "output_type": "stream",
     "text": [
      "/ext3/miniconda3/lib/python3.9/site-packages/scipy/io/matlab/mio5.py:493: VisibleDeprecationWarning: Creating an ndarray from ragged nested sequences (which is a list-or-tuple of lists-or-tuples-or ndarrays with different lengths or shapes) is deprecated. If you meant to do this, you must specify 'dtype=object' when creating the ndarray.\n",
      "  narr = np.asanyarray(source)\n"
     ]
    },
    {
     "name": "stdout",
     "output_type": "stream",
     "text": [
      "done\n",
      "7\n",
      "loading/simulating task data\n",
      "preprocessing data\n",
      "debug 46\n",
      "/home/dh148/projects/dynamics/dynamics/analysis/block.cfg\n",
      "uniqueops: adam_fname not defined in config. using default\n",
      "postprocessing simulation data for dynamics\n",
      "epoch iti\n",
      "building trial masks and getting conditional PSTHs\n",
      "in iti condpsth\n"
     ]
    },
    {
     "name": "stderr",
     "output_type": "stream",
     "text": [
      "/home/dh148/projects/dynamics/dynamics/process/rnn/parse_state.py:180: RuntimeWarning: Mean of empty slice\n",
      "  psth_ofc_h[m, :, :] = np.nanmean(psth_ofc_h_base, axis=0)\n",
      "/home/dh148/projects/dynamics/dynamics/process/rnn/parse_state.py:181: RuntimeWarning: Mean of empty slice\n",
      "  psth_ofc_c[m, :, :] = np.nanmean(psth_ofc_c_base, axis=0)\n",
      "/home/dh148/projects/dynamics/dynamics/process/rnn/parse_state.py:182: RuntimeWarning: Mean of empty slice\n",
      "  psth_str_h[m, :, :] = np.nanmean(psth_str_h_base, axis=0)\n",
      "/home/dh148/projects/dynamics/dynamics/process/rnn/parse_state.py:183: RuntimeWarning: Mean of empty slice\n",
      "  psth_str_c[m, :, :] = np.nanmean(psth_str_c_base, axis=0)\n",
      "/ext3/miniconda3/lib/python3.9/site-packages/numpy/lib/nanfunctions.py:1670: RuntimeWarning: Degrees of freedom <= 0 for slice.\n",
      "  var = nanvar(a, axis=axis, dtype=dtype, out=out, ddof=ddof,\n"
     ]
    },
    {
     "name": "stdout",
     "output_type": "stream",
     "text": [
      "Dim\n",
      "3\n",
      "3\n",
      "choosing inputs\n",
      "using blocktype: mixed. trial is 34\n",
      "[ 0.          0.         39.95000076  0.        ]\n",
      "parsing regions-specific stuff\n",
      "calculating pc_means\n",
      "using PC activity to define bounds\n",
      "running dynamics\n",
      "formatting samples\n",
      "calculating mesh\n",
      "custom res for dynamics\n",
      "custom res for dynamics\n",
      "custom res for dynamics\n",
      "[50, 50, 50]\n",
      "saving: /scratch/dh148/dynamics/results/rnn/ac/20231003/full_cl//dynamics/flows/flowfields_rnn_curric_33_block_10reg_0_mixed_iti_boutique_R20_3d.mat\n"
     ]
    },
    {
     "name": "stderr",
     "output_type": "stream",
     "text": [
      "/ext3/miniconda3/lib/python3.9/site-packages/scipy/io/matlab/mio5.py:493: VisibleDeprecationWarning: Creating an ndarray from ragged nested sequences (which is a list-or-tuple of lists-or-tuples-or ndarrays with different lengths or shapes) is deprecated. If you meant to do this, you must specify 'dtype=object' when creating the ndarray.\n",
      "  narr = np.asanyarray(source)\n"
     ]
    },
    {
     "name": "stdout",
     "output_type": "stream",
     "text": [
      "done\n"
     ]
    }
   ],
   "source": [
    "#fig 6C data. striatum flow fields\n",
    "\n",
    "for ind in range(8):\n",
    "    for epoch in ['wait','iti','start']:\n",
    "        \n",
    "        if epoch == 'wait':\n",
    "            blockinds = [None]\n",
    "            erange = [0]\n",
    "            useKEbounds = True\n",
    "            txt_iti = ['']\n",
    "            \n",
    "        elif epoch == 'iti':\n",
    "            blockinds = [9, 18, 10, 46, 44, 48, 0, 34]  #-2, -1, -0.5, 0.5, 1, 5, 10, 20, 40, 80\n",
    "            txt_iti = ['_Rm2', '_Rm1', '_Rmp5', '_Rp5', '_R1', '_R5', '_R10', '_R20', '_R40'] \n",
    "            erange = range(8)\n",
    "            useKEbounds = False\n",
    "            \n",
    "        elif epoch == 'start':\n",
    "            blockinds = [76, 51, 24, 0, 5, 2]  #5, 10, 20, 40, 80, OO\n",
    "            txt_iti = ['_R5', '_R10', '_R20', '_R40','_R80']\n",
    "            erange = range(5)\n",
    "            useKEbounds = False\n",
    "        else:\n",
    "            print('wrong epoch type')\n",
    "            \n",
    "        \n",
    "\n",
    "        kemin_name = savedir_KE + 'kemin_' + basename + 'reg_' + str(reg_idx) + '_' + blocktype + '_' + epoch + '.dat'\n",
    "\n",
    "        fo = {'reg_idx': reg_idx, 's_idx': s_idx, 'tphase': t_idx, 'epoch': epoch, 'blocktype': blocktype,\n",
    "          'verbose': True, 'useKEbounds': useKEbounds, 'basedirectory': basedirectory,\n",
    "          'savedir': savedir_flows}  # flowops dictionary\n",
    "\n",
    "        D = 2\n",
    "\n",
    "        for k in erange:\n",
    "            print([epoch, k ])\n",
    "\n",
    "            flowname = (savedir_flows + 'flowfields_' + basename + 'reg_' +\n",
    "                        str(reg_idx)+'_' + blocktype + '_' + epoch + '_boutique'+txt_iti[ind]+'.mat')\n",
    "\n",
    "            flowfields.genflowfields(modelname, dataname, kemin_name, flowname, fo, D=D, block_idx = blockinds[ind])\n",
    "        print(\"done\")"
   ]
  }
 ],
 "metadata": {
  "kernelspec": {
   "display_name": "torchenv",
   "language": "python",
   "name": "torchenv"
  },
  "language_info": {
   "codemirror_mode": {
    "name": "ipython",
    "version": 3
   },
   "file_extension": ".py",
   "mimetype": "text/x-python",
   "name": "python",
   "nbconvert_exporter": "python",
   "pygments_lexer": "ipython3",
   "version": "3.11.6"
  }
 },
 "nbformat": 4,
 "nbformat_minor": 5
}
